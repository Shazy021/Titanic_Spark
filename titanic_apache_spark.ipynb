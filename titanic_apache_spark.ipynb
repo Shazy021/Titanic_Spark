{
 "cells": [
  {
   "cell_type": "markdown",
   "id": "a4ff88e7",
   "metadata": {
    "papermill": {
     "duration": 0.026378,
     "end_time": "2022-11-12T17:24:41.692316",
     "exception": false,
     "start_time": "2022-11-12T17:24:41.665938",
     "status": "completed"
    },
    "tags": []
   },
   "source": [
    "##### Predicting Titanic survivors with Apache Spark"
   ]
  },
  {
   "cell_type": "markdown",
   "id": "5c1811aa",
   "metadata": {
    "papermill": {
     "duration": 0.023005,
     "end_time": "2022-11-12T17:24:41.738785",
     "exception": false,
     "start_time": "2022-11-12T17:24:41.715780",
     "status": "completed"
    },
    "tags": []
   },
   "source": [
    "<img src='https://funart.pro/uploads/posts/2021-04/1617477682_46-p-oboi-aisberg-potopivshii-titanik-50.jpg'>\n"
   ]
  },
  {
   "cell_type": "markdown",
   "id": "887fe512",
   "metadata": {
    "papermill": {
     "duration": 0.023215,
     "end_time": "2022-11-12T17:24:41.785468",
     "exception": false,
     "start_time": "2022-11-12T17:24:41.762253",
     "status": "completed"
    },
    "tags": []
   },
   "source": [
    "Гибель Титаника является одним из самых печально известных кораблекрушений в истории. 15 апреля 1912 года во время своего первого плавания, Титаник затонул после столкновения с айсбергом, при этом погибло 1502 из 2224 пассажиров и членов экипажа.\n",
    "\n",
    "Некоторые группы людей имели больше шансов выжить, по сравнению с другими. Например, женщины, дети, пассажиры высшего класса.\n",
    "\n",
    "В этой работе применяются методы машинного обучения для проедсказания того, какие пассажиры могли выжить в этой трагедии."
   ]
  },
  {
   "cell_type": "markdown",
   "id": "b5f508bf",
   "metadata": {
    "papermill": {
     "duration": 0.02307,
     "end_time": "2022-11-12T17:24:41.831973",
     "exception": false,
     "start_time": "2022-11-12T17:24:41.808903",
     "status": "completed"
    },
    "tags": []
   },
   "source": [
    "# Задача\n",
    "\n",
    "**Задача** — **знакомство с Apache Spark**.\n",
    "\n",
    "**Доп. задача** - **построить модель, которая лучшим образом сможет предсказать, остался ли произвольный пассажир в живых или нет**."
   ]
  },
  {
   "cell_type": "markdown",
   "id": "7cb90d8c",
   "metadata": {
    "papermill": {
     "duration": 0.023033,
     "end_time": "2022-11-12T17:24:41.878885",
     "exception": false,
     "start_time": "2022-11-12T17:24:41.855852",
     "status": "completed"
    },
    "tags": []
   },
   "source": [
    "## Импорты:"
   ]
  },
  {
   "cell_type": "code",
   "execution_count": 1,
   "id": "8b8f4bfd",
   "metadata": {
    "execution": {
     "iopub.execute_input": "2022-11-12T17:24:41.928588Z",
     "iopub.status.busy": "2022-11-12T17:24:41.928135Z",
     "iopub.status.idle": "2022-11-12T17:25:33.830855Z",
     "shell.execute_reply": "2022-11-12T17:25:33.829392Z"
    },
    "papermill": {
     "duration": 51.930608,
     "end_time": "2022-11-12T17:25:33.833766",
     "exception": false,
     "start_time": "2022-11-12T17:24:41.903158",
     "status": "completed"
    },
    "tags": []
   },
   "outputs": [
    {
     "name": "stdout",
     "output_type": "stream",
     "text": [
      "Collecting pyspark\r\n",
      "  Downloading pyspark-3.3.1.tar.gz (281.4 MB)\r\n",
      "\u001b[2K     \u001b[90m━━━━━━━━━━━━━━━━━━━━━━━━━━━━━━━━━━━━━━━\u001b[0m \u001b[32m281.4/281.4 MB\u001b[0m \u001b[31m3.7 MB/s\u001b[0m eta \u001b[36m0:00:00\u001b[0m\r\n",
      "\u001b[?25h  Preparing metadata (setup.py) ... \u001b[?25l-\b \bdone\r\n",
      "\u001b[?25hCollecting py4j==0.10.9.5\r\n",
      "  Downloading py4j-0.10.9.5-py2.py3-none-any.whl (199 kB)\r\n",
      "\u001b[2K     \u001b[90m━━━━━━━━━━━━━━━━━━━━━━━━━━━━━━━━━━━━━━\u001b[0m \u001b[32m199.7/199.7 kB\u001b[0m \u001b[31m17.3 MB/s\u001b[0m eta \u001b[36m0:00:00\u001b[0m\r\n",
      "\u001b[?25hBuilding wheels for collected packages: pyspark\r\n",
      "  Building wheel for pyspark (setup.py) ... \u001b[?25l-\b \b\\\b \b|\b \b/\b \b-\b \b\\\b \b|\b \b/\b \b-\b \b\\\b \b|\b \b/\b \b-\b \b\\\b \b|\b \b/\b \b-\b \b\\\b \b|\b \b/\b \b-\b \b\\\b \b|\b \b/\b \b-\b \b\\\b \b|\b \b/\b \b-\b \b\\\b \b|\b \b/\b \b-\b \b\\\b \b|\b \b/\b \b-\b \b\\\b \b|\b \b/\b \b-\b \b\\\b \b|\b \b/\b \b-\b \b\\\b \b|\b \b/\b \b-\b \b\\\b \b|\b \b/\b \b-\b \b\\\b \b|\b \b/\b \b-\b \b\\\b \b|\b \b/\b \b-\b \bdone\r\n",
      "\u001b[?25h  Created wheel for pyspark: filename=pyspark-3.3.1-py2.py3-none-any.whl size=281845513 sha256=c6de2dbd4c1035ab2511beca05a52d2f0675ce6eb4ba711401a18ba748159310\r\n",
      "  Stored in directory: /root/.cache/pip/wheels/42/59/f5/79a5bf931714dcd201b26025347785f087370a10a3329a899c\r\n",
      "Successfully built pyspark\r\n",
      "Installing collected packages: py4j, pyspark\r\n",
      "  Attempting uninstall: py4j\r\n",
      "    Found existing installation: py4j 0.10.9.7\r\n",
      "    Uninstalling py4j-0.10.9.7:\r\n",
      "      Successfully uninstalled py4j-0.10.9.7\r\n",
      "Successfully installed py4j-0.10.9.5 pyspark-3.3.1\r\n",
      "\u001b[33mWARNING: Running pip as the 'root' user can result in broken permissions and conflicting behaviour with the system package manager. It is recommended to use a virtual environment instead: https://pip.pypa.io/warnings/venv\u001b[0m\u001b[33m\r\n",
      "\u001b[0m"
     ]
    }
   ],
   "source": [
    "!pip install pyspark"
   ]
  },
  {
   "cell_type": "code",
   "execution_count": 2,
   "id": "21b89be2",
   "metadata": {
    "execution": {
     "iopub.execute_input": "2022-11-12T17:25:33.913689Z",
     "iopub.status.busy": "2022-11-12T17:25:33.913249Z",
     "iopub.status.idle": "2022-11-12T17:25:35.121059Z",
     "shell.execute_reply": "2022-11-12T17:25:35.119822Z"
    },
    "papermill": {
     "duration": 1.251056,
     "end_time": "2022-11-12T17:25:35.123935",
     "exception": false,
     "start_time": "2022-11-12T17:25:33.872879",
     "status": "completed"
    },
    "tags": []
   },
   "outputs": [],
   "source": [
    "import pandas as pd\n",
    "import matplotlib.pyplot as plt\n",
    "import seaborn as sns\n",
    "import numpy as np\n",
    "\n",
    "import pyspark\n",
    "from pyspark.sql import SparkSession, Window\n",
    "from pyspark.sql.functions import isnan, when, count, col, desc, asc\n",
    "\n",
    "from pyspark.ml.feature import StandardScaler, StringIndexer, VectorAssembler, Imputer\n",
    "from pyspark.ml.evaluation import MulticlassClassificationEvaluator\n",
    "from pyspark.ml.classification import (\n",
    "    NaiveBayes,\n",
    "    DecisionTreeClassifier,\n",
    "    RandomForestClassifier,\n",
    "    LogisticRegression,\n",
    "    MultilayerPerceptronClassifier,\n",
    "    GBTClassifier\n",
    ")\n",
    "\n",
    "import warnings\n",
    "warnings.filterwarnings('ignore')\n",
    "\n",
    "RND = 21"
   ]
  },
  {
   "cell_type": "markdown",
   "id": "f76e893e",
   "metadata": {
    "papermill": {
     "duration": 0.039574,
     "end_time": "2022-11-12T17:25:35.201588",
     "exception": false,
     "start_time": "2022-11-12T17:25:35.162014",
     "status": "completed"
    },
    "tags": []
   },
   "source": [
    "## 1. Создание сессии"
   ]
  },
  {
   "cell_type": "code",
   "execution_count": 3,
   "id": "efa4cd29",
   "metadata": {
    "execution": {
     "iopub.execute_input": "2022-11-12T17:25:35.278775Z",
     "iopub.status.busy": "2022-11-12T17:25:35.278411Z",
     "iopub.status.idle": "2022-11-12T17:25:42.098477Z",
     "shell.execute_reply": "2022-11-12T17:25:42.097070Z"
    },
    "papermill": {
     "duration": 6.861897,
     "end_time": "2022-11-12T17:25:42.101204",
     "exception": false,
     "start_time": "2022-11-12T17:25:35.239307",
     "status": "completed"
    },
    "tags": []
   },
   "outputs": [
    {
     "name": "stderr",
     "output_type": "stream",
     "text": [
      "Setting default log level to \"WARN\".\n",
      "To adjust logging level use sc.setLogLevel(newLevel). For SparkR, use setLogLevel(newLevel).\n"
     ]
    },
    {
     "name": "stdout",
     "output_type": "stream",
     "text": [
      "22/11/12 17:25:38 WARN NativeCodeLoader: Unable to load native-hadoop library for your platform... using builtin-java classes where applicable\n"
     ]
    },
    {
     "data": {
      "text/html": [
       "\n",
       "            <div>\n",
       "                <p><b>SparkSession - in-memory</b></p>\n",
       "                \n",
       "        <div>\n",
       "            <p><b>SparkContext</b></p>\n",
       "\n",
       "            <p><a href=\"http://487e96bef6b9:4040\">Spark UI</a></p>\n",
       "\n",
       "            <dl>\n",
       "              <dt>Version</dt>\n",
       "                <dd><code>v3.3.1</code></dd>\n",
       "              <dt>Master</dt>\n",
       "                <dd><code>local[*]</code></dd>\n",
       "              <dt>AppName</dt>\n",
       "                <dd><code>Apache Spark Beginner</code></dd>\n",
       "            </dl>\n",
       "        </div>\n",
       "        \n",
       "            </div>\n",
       "        "
      ],
      "text/plain": [
       "<pyspark.sql.session.SparkSession at 0x7fd54ddf2a50>"
      ]
     },
     "execution_count": 3,
     "metadata": {},
     "output_type": "execute_result"
    }
   ],
   "source": [
    "spark = (\n",
    "    SparkSession.builder\n",
    "    .appName('Apache Spark Beginner')\n",
    "    .config(\"spark.executor.memory\", \"1G\")\n",
    "    .config(\"spark.executor.cores\",\"4\")\n",
    "    .getOrCreate()\n",
    ")\n",
    "spark.sparkContext.setLogLevel('OFF')\n",
    "\n",
    "spark"
   ]
  },
  {
   "cell_type": "markdown",
   "id": "7434cdce",
   "metadata": {
    "papermill": {
     "duration": 0.038545,
     "end_time": "2022-11-12T17:25:42.179034",
     "exception": false,
     "start_time": "2022-11-12T17:25:42.140489",
     "status": "completed"
    },
    "tags": []
   },
   "source": [
    "## 2. Загрузка данных"
   ]
  },
  {
   "cell_type": "code",
   "execution_count": 4,
   "id": "c726296b",
   "metadata": {
    "execution": {
     "iopub.execute_input": "2022-11-12T17:25:42.286315Z",
     "iopub.status.busy": "2022-11-12T17:25:42.285858Z",
     "iopub.status.idle": "2022-11-12T17:25:48.612341Z",
     "shell.execute_reply": "2022-11-12T17:25:48.610954Z"
    },
    "papermill": {
     "duration": 6.389538,
     "end_time": "2022-11-12T17:25:48.616079",
     "exception": false,
     "start_time": "2022-11-12T17:25:42.226541",
     "status": "completed"
    },
    "tags": []
   },
   "outputs": [],
   "source": [
    "train_df = spark.read.csv('../input/titanic/train.csv', header=True, inferSchema=True)\n",
    "test_df = spark.read.csv('../input/titanic/test.csv', header=True, inferSchema=True)\n",
    "gender_sub_df = spark.read.csv('../input/titanic/gender_submission.csv', header=True, inferSchema=True)"
   ]
  },
  {
   "cell_type": "code",
   "execution_count": 5,
   "id": "a4b5279d",
   "metadata": {
    "execution": {
     "iopub.execute_input": "2022-11-12T17:25:48.709365Z",
     "iopub.status.busy": "2022-11-12T17:25:48.708819Z",
     "iopub.status.idle": "2022-11-12T17:25:48.981470Z",
     "shell.execute_reply": "2022-11-12T17:25:48.979069Z"
    },
    "papermill": {
     "duration": 0.317798,
     "end_time": "2022-11-12T17:25:48.985560",
     "exception": false,
     "start_time": "2022-11-12T17:25:48.667762",
     "status": "completed"
    },
    "tags": []
   },
   "outputs": [
    {
     "name": "stdout",
     "output_type": "stream",
     "text": [
      "+-----------+--------+\n",
      "|PassengerId|Survived|\n",
      "+-----------+--------+\n",
      "|        892|       0|\n",
      "|        893|       1|\n",
      "|        894|       0|\n",
      "|        895|       0|\n",
      "|        896|       1|\n",
      "+-----------+--------+\n",
      "only showing top 5 rows\n",
      "\n"
     ]
    }
   ],
   "source": [
    "gender_sub_df.show(5)"
   ]
  },
  {
   "cell_type": "code",
   "execution_count": 6,
   "id": "8e8f55ad",
   "metadata": {
    "execution": {
     "iopub.execute_input": "2022-11-12T17:25:49.103491Z",
     "iopub.status.busy": "2022-11-12T17:25:49.102954Z",
     "iopub.status.idle": "2022-11-12T17:25:49.390234Z",
     "shell.execute_reply": "2022-11-12T17:25:49.387963Z"
    },
    "papermill": {
     "duration": 0.353043,
     "end_time": "2022-11-12T17:25:49.395230",
     "exception": false,
     "start_time": "2022-11-12T17:25:49.042187",
     "status": "completed"
    },
    "tags": []
   },
   "outputs": [
    {
     "name": "stdout",
     "output_type": "stream",
     "text": [
      "+-----------+--------+------+--------------------+------+----+-----+-----+----------------+-------+-----+--------+\n",
      "|PassengerId|Survived|Pclass|                Name|   Sex| Age|SibSp|Parch|          Ticket|   Fare|Cabin|Embarked|\n",
      "+-----------+--------+------+--------------------+------+----+-----+-----+----------------+-------+-----+--------+\n",
      "|          1|       0|     3|Braund, Mr. Owen ...|  male|22.0|    1|    0|       A/5 21171|   7.25| null|       S|\n",
      "|          2|       1|     1|Cumings, Mrs. Joh...|female|38.0|    1|    0|        PC 17599|71.2833|  C85|       C|\n",
      "|          3|       1|     3|Heikkinen, Miss. ...|female|26.0|    0|    0|STON/O2. 3101282|  7.925| null|       S|\n",
      "|          4|       1|     1|Futrelle, Mrs. Ja...|female|35.0|    1|    0|          113803|   53.1| C123|       S|\n",
      "|          5|       0|     3|Allen, Mr. Willia...|  male|35.0|    0|    0|          373450|   8.05| null|       S|\n",
      "+-----------+--------+------+--------------------+------+----+-----+-----+----------------+-------+-----+--------+\n",
      "only showing top 5 rows\n",
      "\n"
     ]
    }
   ],
   "source": [
    "train_df.show(5)"
   ]
  },
  {
   "cell_type": "markdown",
   "id": "913cd84d",
   "metadata": {
    "papermill": {
     "duration": 0.03783,
     "end_time": "2022-11-12T17:25:49.478230",
     "exception": false,
     "start_time": "2022-11-12T17:25:49.440400",
     "status": "completed"
    },
    "tags": []
   },
   "source": [
    "Рассмотрим внимательнее, что содержится в данном датасете. Ниже представлена краткая информация о каждом из стобцов датасета:\n",
    "\n",
    "|Column name|Content                                          |Value                                         |\n",
    "|-----------|-------------------------------------------------|----------------------------------------------|\n",
    "|PasengerId |никальный индекс                                 |                                              |\n",
    "|Survived   |Признак, показывающий был ли спасен данный пассажир или нет|0 = No, 1 = Yes                     |\n",
    "|Pclass     |Класс билета                                     |1 = 1st, 2 = 2nd, 3 = 3rd                     |\n",
    "|Name       |Имя пассажира                                    |\"Mr\" для мужчин. \"Mrs\" для женщин. \"Miss\" для девушек \"Master\" для юношей.|\n",
    "|Sex        |Пол пассажира                                    |                                              |\n",
    "|Age        |Возраст пассажира                                |                                              |\n",
    "|SibSp      |Количество братьев/сестер или супругов           |                                              |\n",
    "|Parch      |Количество родителей и детей                     |                                              |\n",
    "|Ticket     |Номер билета                                     |                                              |\n",
    "|Fare       |Сумма, которую заплатил пассажир за путешествие  |                                              |\n",
    "|Cabin      |Номер каюты                                      |                                              |\n",
    "|Embarked   |Порт отправления                                 |C = Cherbourg, Q = Queenstown, S = Southampton|"
   ]
  },
  {
   "cell_type": "markdown",
   "id": "f9914a3f",
   "metadata": {
    "papermill": {
     "duration": 0.038303,
     "end_time": "2022-11-12T17:25:49.555006",
     "exception": false,
     "start_time": "2022-11-12T17:25:49.516703",
     "status": "completed"
    },
    "tags": []
   },
   "source": [
    "Помимо примеров данных, нам нужно понимать размерности, т.е. сколько всего строк/столбцов присутсвует в загруженных файлах.\n",
    "\n",
    "Если бы мы использовали `DataFrame` из пандаса, то смогли бы посмотреть размернось при помощи `.shape` или `np.shape()`, работая со спарком мы можем посмотреть размерность строк/столбцов по отдельности `.count()/len()`\n",
    "\n",
    "Напишем небольшую \"ф-цию заменитель\" `.shape`"
   ]
  },
  {
   "cell_type": "code",
   "execution_count": 7,
   "id": "bfec316e",
   "metadata": {
    "execution": {
     "iopub.execute_input": "2022-11-12T17:25:49.634253Z",
     "iopub.status.busy": "2022-11-12T17:25:49.633831Z",
     "iopub.status.idle": "2022-11-12T17:25:49.640667Z",
     "shell.execute_reply": "2022-11-12T17:25:49.639304Z"
    },
    "papermill": {
     "duration": 0.049358,
     "end_time": "2022-11-12T17:25:49.643039",
     "exception": false,
     "start_time": "2022-11-12T17:25:49.593681",
     "status": "completed"
    },
    "tags": []
   },
   "outputs": [],
   "source": [
    "def spark_shape(self):\n",
    "    # ф-ция заменитель .shape`\n",
    "    return (self.count(), len(self.columns))\n",
    "\n",
    "pyspark.sql.dataframe.DataFrame.shape = spark_shape"
   ]
  },
  {
   "cell_type": "code",
   "execution_count": 8,
   "id": "9ff9d835",
   "metadata": {
    "execution": {
     "iopub.execute_input": "2022-11-12T17:25:49.722386Z",
     "iopub.status.busy": "2022-11-12T17:25:49.721660Z",
     "iopub.status.idle": "2022-11-12T17:25:50.455385Z",
     "shell.execute_reply": "2022-11-12T17:25:50.454245Z"
    },
    "papermill": {
     "duration": 0.776799,
     "end_time": "2022-11-12T17:25:50.458176",
     "exception": false,
     "start_time": "2022-11-12T17:25:49.681377",
     "status": "completed"
    },
    "tags": []
   },
   "outputs": [
    {
     "data": {
      "text/plain": [
       "(891, 12)"
      ]
     },
     "execution_count": 8,
     "metadata": {},
     "output_type": "execute_result"
    }
   ],
   "source": [
    "train_df.shape()"
   ]
  },
  {
   "cell_type": "markdown",
   "id": "7bec30dc",
   "metadata": {
    "papermill": {
     "duration": 0.044851,
     "end_time": "2022-11-12T17:25:50.560149",
     "exception": false,
     "start_time": "2022-11-12T17:25:50.515298",
     "status": "completed"
    },
    "tags": []
   },
   "source": [
    "Мы видим, что всего в обучающем наборе содержатся $891$ строка/запись и $12$ столбцов.\n",
    "\n",
    "`.describe()` отобразит различные величины, такие как количесmво, среднее, среднеквадратичное отклонение и т.д. для численных типов данных."
   ]
  },
  {
   "cell_type": "code",
   "execution_count": 9,
   "id": "25c83d6d",
   "metadata": {
    "execution": {
     "iopub.execute_input": "2022-11-12T17:25:50.638567Z",
     "iopub.status.busy": "2022-11-12T17:25:50.638192Z",
     "iopub.status.idle": "2022-11-12T17:25:52.904104Z",
     "shell.execute_reply": "2022-11-12T17:25:52.902802Z"
    },
    "papermill": {
     "duration": 2.309924,
     "end_time": "2022-11-12T17:25:52.908329",
     "exception": false,
     "start_time": "2022-11-12T17:25:50.598405",
     "status": "completed"
    },
    "tags": []
   },
   "outputs": [
    {
     "name": "stderr",
     "output_type": "stream",
     "text": [
      "[Stage 11:>                                                         (0 + 1) / 1]\r"
     ]
    },
    {
     "name": "stdout",
     "output_type": "stream",
     "text": [
      "+-------+-----------------+-------------------+------------------+--------------------+------+------------------+------------------+-------------------+------------------+-----------------+-----+--------+\n",
      "|summary|      PassengerId|           Survived|            Pclass|                Name|   Sex|               Age|             SibSp|              Parch|            Ticket|             Fare|Cabin|Embarked|\n",
      "+-------+-----------------+-------------------+------------------+--------------------+------+------------------+------------------+-------------------+------------------+-----------------+-----+--------+\n",
      "|  count|              891|                891|               891|                 891|   891|               714|               891|                891|               891|              891|  204|     889|\n",
      "|   mean|            446.0| 0.3838383838383838| 2.308641975308642|                null|  null| 29.69911764705882|0.5230078563411896|0.38159371492704824|260318.54916792738| 32.2042079685746| null|    null|\n",
      "| stddev|257.3538420152301|0.48659245426485753|0.8360712409770491|                null|  null|14.526497332334035|1.1027434322934315| 0.8060572211299488|471609.26868834975|49.69342859718089| null|    null|\n",
      "|    min|                1|                  0|                 1|\"Andersson, Mr. A...|female|              0.42|                 0|                  0|            110152|              0.0|  A10|       C|\n",
      "|    max|              891|                  1|                 3|van Melkebeke, Mr...|  male|              80.0|                 8|                  6|         WE/P 5735|         512.3292|    T|       S|\n",
      "+-------+-----------------+-------------------+------------------+--------------------+------+------------------+------------------+-------------------+------------------+-----------------+-----+--------+\n",
      "\n"
     ]
    },
    {
     "name": "stderr",
     "output_type": "stream",
     "text": [
      "                                                                                \r"
     ]
    }
   ],
   "source": [
    "train_df.describe().show()"
   ]
  },
  {
   "cell_type": "markdown",
   "id": "3559d118",
   "metadata": {
    "papermill": {
     "duration": 0.039579,
     "end_time": "2022-11-12T17:25:52.994907",
     "exception": false,
     "start_time": "2022-11-12T17:25:52.955328",
     "status": "completed"
    },
    "tags": []
   },
   "source": [
    "Если `.show()` искажает вывод таблицы, то можем попробовать отобразить информацию вертикально."
   ]
  },
  {
   "cell_type": "code",
   "execution_count": 10,
   "id": "784b7633",
   "metadata": {
    "execution": {
     "iopub.execute_input": "2022-11-12T17:25:53.076938Z",
     "iopub.status.busy": "2022-11-12T17:25:53.076447Z",
     "iopub.status.idle": "2022-11-12T17:25:54.026927Z",
     "shell.execute_reply": "2022-11-12T17:25:54.025794Z"
    },
    "papermill": {
     "duration": 0.998273,
     "end_time": "2022-11-12T17:25:54.032241",
     "exception": false,
     "start_time": "2022-11-12T17:25:53.033968",
     "status": "completed"
    },
    "tags": []
   },
   "outputs": [
    {
     "name": "stdout",
     "output_type": "stream",
     "text": [
      "-RECORD 0---------------------------\n",
      " summary     | count                \n",
      " PassengerId | 891                  \n",
      " Survived    | 891                  \n",
      " Pclass      | 891                  \n",
      " Name        | 891                  \n",
      " Sex         | 891                  \n",
      " Age         | 714                  \n",
      " SibSp       | 891                  \n",
      " Parch       | 891                  \n",
      " Ticket      | 891                  \n",
      " Fare        | 891                  \n",
      " Cabin       | 204                  \n",
      " Embarked    | 889                  \n",
      "-RECORD 1---------------------------\n",
      " summary     | mean                 \n",
      " PassengerId | 446.0                \n",
      " Survived    | 0.3838383838383838   \n",
      " Pclass      | 2.308641975308642    \n",
      " Name        | null                 \n",
      " Sex         | null                 \n",
      " Age         | 29.69911764705882    \n",
      " SibSp       | 0.5230078563411896   \n",
      " Parch       | 0.38159371492704824  \n",
      " Ticket      | 260318.54916792738   \n",
      " Fare        | 32.2042079685746     \n",
      " Cabin       | null                 \n",
      " Embarked    | null                 \n",
      "-RECORD 2---------------------------\n",
      " summary     | stddev               \n",
      " PassengerId | 257.3538420152301    \n",
      " Survived    | 0.48659245426485753  \n",
      " Pclass      | 0.8360712409770491   \n",
      " Name        | null                 \n",
      " Sex         | null                 \n",
      " Age         | 14.526497332334035   \n",
      " SibSp       | 1.1027434322934315   \n",
      " Parch       | 0.8060572211299488   \n",
      " Ticket      | 471609.26868834975   \n",
      " Fare        | 49.69342859718089    \n",
      " Cabin       | null                 \n",
      " Embarked    | null                 \n",
      "-RECORD 3---------------------------\n",
      " summary     | min                  \n",
      " PassengerId | 1                    \n",
      " Survived    | 0                    \n",
      " Pclass      | 1                    \n",
      " Name        | \"Andersson, Mr. A... \n",
      " Sex         | female               \n",
      " Age         | 0.42                 \n",
      " SibSp       | 0                    \n",
      " Parch       | 0                    \n",
      " Ticket      | 110152               \n",
      " Fare        | 0.0                  \n",
      " Cabin       | A10                  \n",
      " Embarked    | C                    \n",
      "-RECORD 4---------------------------\n",
      " summary     | max                  \n",
      " PassengerId | 891                  \n",
      " Survived    | 1                    \n",
      " Pclass      | 3                    \n",
      " Name        | van Melkebeke, Mr... \n",
      " Sex         | male                 \n",
      " Age         | 80.0                 \n",
      " SibSp       | 8                    \n",
      " Parch       | 6                    \n",
      " Ticket      | WE/P 5735            \n",
      " Fare        | 512.3292             \n",
      " Cabin       | T                    \n",
      " Embarked    | S                    \n",
      "\n"
     ]
    }
   ],
   "source": [
    "train_df.describe().show(vertical=True)"
   ]
  },
  {
   "cell_type": "markdown",
   "id": "4f492720",
   "metadata": {
    "papermill": {
     "duration": 0.059588,
     "end_time": "2022-11-12T17:25:54.153849",
     "exception": false,
     "start_time": "2022-11-12T17:25:54.094261",
     "status": "completed"
    },
    "tags": []
   },
   "source": [
    "Теперь отобразим статистики (descriptive statistics) объектного типа. Это нужно для нечисловых данных, когда нельзя просто посчитать максимумы/среднее/и пр. для данных. Мы можем отнести такие данные к категориальному виду."
   ]
  },
  {
   "cell_type": "code",
   "execution_count": 11,
   "id": "8a4422b3",
   "metadata": {
    "execution": {
     "iopub.execute_input": "2022-11-12T17:25:54.275540Z",
     "iopub.status.busy": "2022-11-12T17:25:54.275044Z",
     "iopub.status.idle": "2022-11-12T17:25:54.530640Z",
     "shell.execute_reply": "2022-11-12T17:25:54.529512Z"
    },
    "papermill": {
     "duration": 0.319101,
     "end_time": "2022-11-12T17:25:54.534177",
     "exception": false,
     "start_time": "2022-11-12T17:25:54.215076",
     "status": "completed"
    },
    "tags": []
   },
   "outputs": [
    {
     "data": {
      "text/html": [
       "<div>\n",
       "<style scoped>\n",
       "    .dataframe tbody tr th:only-of-type {\n",
       "        vertical-align: middle;\n",
       "    }\n",
       "\n",
       "    .dataframe tbody tr th {\n",
       "        vertical-align: top;\n",
       "    }\n",
       "\n",
       "    .dataframe thead th {\n",
       "        text-align: right;\n",
       "    }\n",
       "</style>\n",
       "<table border=\"1\" class=\"dataframe\">\n",
       "  <thead>\n",
       "    <tr style=\"text-align: right;\">\n",
       "      <th></th>\n",
       "      <th>Name</th>\n",
       "      <th>Sex</th>\n",
       "      <th>Ticket</th>\n",
       "      <th>Cabin</th>\n",
       "      <th>Embarked</th>\n",
       "    </tr>\n",
       "  </thead>\n",
       "  <tbody>\n",
       "    <tr>\n",
       "      <th>count</th>\n",
       "      <td>891</td>\n",
       "      <td>891</td>\n",
       "      <td>891</td>\n",
       "      <td>204</td>\n",
       "      <td>889</td>\n",
       "    </tr>\n",
       "    <tr>\n",
       "      <th>unique</th>\n",
       "      <td>891</td>\n",
       "      <td>2</td>\n",
       "      <td>681</td>\n",
       "      <td>147</td>\n",
       "      <td>3</td>\n",
       "    </tr>\n",
       "    <tr>\n",
       "      <th>top</th>\n",
       "      <td>Braund, Mr. Owen Harris</td>\n",
       "      <td>male</td>\n",
       "      <td>347082</td>\n",
       "      <td>B96 B98</td>\n",
       "      <td>S</td>\n",
       "    </tr>\n",
       "    <tr>\n",
       "      <th>freq</th>\n",
       "      <td>1</td>\n",
       "      <td>577</td>\n",
       "      <td>7</td>\n",
       "      <td>4</td>\n",
       "      <td>644</td>\n",
       "    </tr>\n",
       "  </tbody>\n",
       "</table>\n",
       "</div>"
      ],
      "text/plain": [
       "                           Name   Sex  Ticket    Cabin Embarked\n",
       "count                       891   891     891      204      889\n",
       "unique                      891     2     681      147        3\n",
       "top     Braund, Mr. Owen Harris  male  347082  B96 B98        S\n",
       "freq                          1   577       7        4      644"
      ]
     },
     "execution_count": 11,
     "metadata": {},
     "output_type": "execute_result"
    }
   ],
   "source": [
    "train_df.toPandas().describe(include = ['O'])"
   ]
  },
  {
   "cell_type": "markdown",
   "id": "9db500af",
   "metadata": {
    "papermill": {
     "duration": 0.058558,
     "end_time": "2022-11-12T17:25:54.654149",
     "exception": false,
     "start_time": "2022-11-12T17:25:54.595591",
     "status": "completed"
    },
    "tags": []
   },
   "source": [
    "* Cущесвуют дубликаты номеров билетов `Ticket`, самым повторяющимся стал `347082`\n",
    "* Наибольшее число людей занимающих $1$ каюту = $4$\n",
    "* $644$ человека отбыли из порта `S`.\n",
    "* Среди $891$ человека, $577$ были мужчины (`Male`) и оставшием женщины (`Female`)."
   ]
  },
  {
   "cell_type": "code",
   "execution_count": 12,
   "id": "f54556bf",
   "metadata": {
    "execution": {
     "iopub.execute_input": "2022-11-12T17:25:54.751643Z",
     "iopub.status.busy": "2022-11-12T17:25:54.751146Z",
     "iopub.status.idle": "2022-11-12T17:25:55.583972Z",
     "shell.execute_reply": "2022-11-12T17:25:55.582867Z"
    },
    "papermill": {
     "duration": 0.878691,
     "end_time": "2022-11-12T17:25:55.588170",
     "exception": false,
     "start_time": "2022-11-12T17:25:54.709479",
     "status": "completed"
    },
    "tags": []
   },
   "outputs": [
    {
     "name": "stdout",
     "output_type": "stream",
     "text": [
      "root\n",
      " |-- PassengerId: integer (nullable = true)\n",
      " |-- Survived: integer (nullable = true)\n",
      " |-- Pclass: integer (nullable = true)\n",
      " |-- Name: string (nullable = true)\n",
      " |-- Sex: string (nullable = true)\n",
      " |-- Age: double (nullable = true)\n",
      " |-- SibSp: integer (nullable = true)\n",
      " |-- Parch: integer (nullable = true)\n",
      " |-- Ticket: string (nullable = true)\n",
      " |-- Fare: double (nullable = true)\n",
      " |-- Cabin: string (nullable = true)\n",
      " |-- Embarked: string (nullable = true)\n",
      "\n",
      "Data size: 891 row(s), 12 column(s)\n",
      "+-----------+--------+------+----+---+---+-----+-----+------+----+-----+--------+\n",
      "|PassengerId|Survived|Pclass|Name|Sex|Age|SibSp|Parch|Ticket|Fare|Cabin|Embarked|\n",
      "+-----------+--------+------+----+---+---+-----+-----+------+----+-----+--------+\n",
      "|          0|       0|     0|   0|  0|177|    0|    0|     0|   0|  687|       2|\n",
      "+-----------+--------+------+----+---+---+-----+-----+------+----+-----+--------+\n",
      "\n"
     ]
    }
   ],
   "source": [
    "train_df.printSchema()\n",
    "print(f'Data size: {train_df.shape()[0]} row(s), {train_df.shape()[1]} column(s)')\n",
    "\n",
    "train_df.select([count(when(isnan(c) | col(c).isNull(), c)).alias(c) for c in train_df.columns]).show()"
   ]
  },
  {
   "cell_type": "markdown",
   "id": "02a279b6",
   "metadata": {
    "papermill": {
     "duration": 0.043858,
     "end_time": "2022-11-12T17:25:55.691918",
     "exception": false,
     "start_time": "2022-11-12T17:25:55.648060",
     "status": "completed"
    },
    "tags": []
   },
   "source": [
    "* `Age` - 177 (~20%) записей с пропущенным возрастом;\n",
    "* `Cabin` - 687 (~77%) записей с пропущенным значение каюты;\n",
    "* `Embarked` - 2 (~0,2%) записи с пропущенными значениями."
   ]
  },
  {
   "cell_type": "markdown",
   "id": "9a9b2787",
   "metadata": {
    "papermill": {
     "duration": 0.039806,
     "end_time": "2022-11-12T17:25:55.771566",
     "exception": false,
     "start_time": "2022-11-12T17:25:55.731760",
     "status": "completed"
    },
    "tags": []
   },
   "source": [
    "### 2.1 Посмотрим на тестовый датасет"
   ]
  },
  {
   "cell_type": "code",
   "execution_count": 13,
   "id": "fe2a50e0",
   "metadata": {
    "execution": {
     "iopub.execute_input": "2022-11-12T17:25:55.852925Z",
     "iopub.status.busy": "2022-11-12T17:25:55.852487Z",
     "iopub.status.idle": "2022-11-12T17:25:55.859427Z",
     "shell.execute_reply": "2022-11-12T17:25:55.858343Z"
    },
    "papermill": {
     "duration": 0.050266,
     "end_time": "2022-11-12T17:25:55.861678",
     "exception": false,
     "start_time": "2022-11-12T17:25:55.811412",
     "status": "completed"
    },
    "tags": []
   },
   "outputs": [],
   "source": [
    "def info_spark_df(df):\n",
    "    # first look\n",
    "    df.printSchema()\n",
    "    print(f'Data size: {df.shape()[0]} row(s), {df.shape()[1]} column(s)')\n",
    "    df.select([count(when(isnan(c) | pyspark.sql.functions.col(c).isNull(), c)).alias(c) for c in df.columns]).show()\n",
    "    df.describe().show(vertical=True)"
   ]
  },
  {
   "cell_type": "code",
   "execution_count": 14,
   "id": "a6b723bc",
   "metadata": {
    "execution": {
     "iopub.execute_input": "2022-11-12T17:25:55.944324Z",
     "iopub.status.busy": "2022-11-12T17:25:55.942449Z",
     "iopub.status.idle": "2022-11-12T17:25:57.519466Z",
     "shell.execute_reply": "2022-11-12T17:25:57.518287Z"
    },
    "papermill": {
     "duration": 1.622809,
     "end_time": "2022-11-12T17:25:57.524401",
     "exception": false,
     "start_time": "2022-11-12T17:25:55.901592",
     "status": "completed"
    },
    "tags": []
   },
   "outputs": [
    {
     "name": "stdout",
     "output_type": "stream",
     "text": [
      "root\n",
      " |-- PassengerId: integer (nullable = true)\n",
      " |-- Pclass: integer (nullable = true)\n",
      " |-- Name: string (nullable = true)\n",
      " |-- Sex: string (nullable = true)\n",
      " |-- Age: double (nullable = true)\n",
      " |-- SibSp: integer (nullable = true)\n",
      " |-- Parch: integer (nullable = true)\n",
      " |-- Ticket: string (nullable = true)\n",
      " |-- Fare: double (nullable = true)\n",
      " |-- Cabin: string (nullable = true)\n",
      " |-- Embarked: string (nullable = true)\n",
      "\n",
      "Data size: 418 row(s), 11 column(s)\n",
      "+-----------+------+----+---+---+-----+-----+------+----+-----+--------+\n",
      "|PassengerId|Pclass|Name|Sex|Age|SibSp|Parch|Ticket|Fare|Cabin|Embarked|\n",
      "+-----------+------+----+---+---+-----+-----+------+----+-----+--------+\n",
      "|          0|     0|   0|  0| 86|    0|    0|     0|   1|  327|       0|\n",
      "+-----------+------+----+---+---+-----+-----+------+----+-----+--------+\n",
      "\n",
      "-RECORD 0---------------------------\n",
      " summary     | count                \n",
      " PassengerId | 418                  \n",
      " Pclass      | 418                  \n",
      " Name        | 418                  \n",
      " Sex         | 418                  \n",
      " Age         | 332                  \n",
      " SibSp       | 418                  \n",
      " Parch       | 418                  \n",
      " Ticket      | 418                  \n",
      " Fare        | 417                  \n",
      " Cabin       | 91                   \n",
      " Embarked    | 418                  \n",
      "-RECORD 1---------------------------\n",
      " summary     | mean                 \n",
      " PassengerId | 1100.5               \n",
      " Pclass      | 2.2655502392344498   \n",
      " Name        | null                 \n",
      " Sex         | null                 \n",
      " Age         | 30.272590361445783   \n",
      " SibSp       | 0.4473684210526316   \n",
      " Parch       | 0.3923444976076555   \n",
      " Ticket      | 223850.98986486485   \n",
      " Fare        | 35.6271884892086     \n",
      " Cabin       | null                 \n",
      " Embarked    | null                 \n",
      "-RECORD 2---------------------------\n",
      " summary     | stddev               \n",
      " PassengerId | 120.81045760473994   \n",
      " Pclass      | 0.8418375519640503   \n",
      " Name        | null                 \n",
      " Sex         | null                 \n",
      " Age         | 14.181209235624424   \n",
      " SibSp       | 0.8967595611217135   \n",
      " Parch       | 0.9814288785371694   \n",
      " Ticket      | 369523.7764694362    \n",
      " Fare        | 55.907576179973844   \n",
      " Cabin       | null                 \n",
      " Embarked    | null                 \n",
      "-RECORD 3---------------------------\n",
      " summary     | min                  \n",
      " PassengerId | 892                  \n",
      " Pclass      | 1                    \n",
      " Name        | \"Assaf Khalil, Mr... \n",
      " Sex         | female               \n",
      " Age         | 0.17                 \n",
      " SibSp       | 0                    \n",
      " Parch       | 0                    \n",
      " Ticket      | 110469               \n",
      " Fare        | 0.0                  \n",
      " Cabin       | A11                  \n",
      " Embarked    | C                    \n",
      "-RECORD 4---------------------------\n",
      " summary     | max                  \n",
      " PassengerId | 1309                 \n",
      " Pclass      | 3                    \n",
      " Name        | van Billiard, Mas... \n",
      " Sex         | male                 \n",
      " Age         | 76.0                 \n",
      " SibSp       | 8                    \n",
      " Parch       | 9                    \n",
      " Ticket      | W.E.P. 5734          \n",
      " Fare        | 512.3292             \n",
      " Cabin       | G6                   \n",
      " Embarked    | S                    \n",
      "\n"
     ]
    }
   ],
   "source": [
    "info_spark_df(test_df)"
   ]
  },
  {
   "cell_type": "markdown",
   "id": "d724b8d3",
   "metadata": {
    "papermill": {
     "duration": 0.039547,
     "end_time": "2022-11-12T17:25:57.606334",
     "exception": false,
     "start_time": "2022-11-12T17:25:57.566787",
     "status": "completed"
    },
    "tags": []
   },
   "source": [
    "* `Age` - присутствуют пропуски(из 418 записей, только у 322 есть значения);\n",
    "* `Fare` - есть 1 пропущенное значение;\n",
    "* `Cabin` - только у 91 записи есть значения."
   ]
  },
  {
   "cell_type": "markdown",
   "id": "fc3a2128",
   "metadata": {
    "papermill": {
     "duration": 0.039106,
     "end_time": "2022-11-12T17:25:57.685052",
     "exception": false,
     "start_time": "2022-11-12T17:25:57.645946",
     "status": "completed"
    },
    "tags": []
   },
   "source": [
    "## 3 EDA"
   ]
  },
  {
   "cell_type": "markdown",
   "id": "f7cd7825",
   "metadata": {
    "papermill": {
     "duration": 0.039799,
     "end_time": "2022-11-12T17:25:57.764114",
     "exception": false,
     "start_time": "2022-11-12T17:25:57.724315",
     "status": "completed"
    },
    "tags": []
   },
   "source": [
    "Для визуализации будем использовать пандосовский фрейм"
   ]
  },
  {
   "cell_type": "code",
   "execution_count": 15,
   "id": "aeae3a97",
   "metadata": {
    "execution": {
     "iopub.execute_input": "2022-11-12T17:25:57.846363Z",
     "iopub.status.busy": "2022-11-12T17:25:57.845930Z",
     "iopub.status.idle": "2022-11-12T17:25:57.942253Z",
     "shell.execute_reply": "2022-11-12T17:25:57.940803Z"
    },
    "papermill": {
     "duration": 0.140727,
     "end_time": "2022-11-12T17:25:57.945497",
     "exception": false,
     "start_time": "2022-11-12T17:25:57.804770",
     "status": "completed"
    },
    "tags": []
   },
   "outputs": [],
   "source": [
    "df = train_df.toPandas()"
   ]
  },
  {
   "cell_type": "code",
   "execution_count": 16,
   "id": "41469927",
   "metadata": {
    "execution": {
     "iopub.execute_input": "2022-11-12T17:25:58.041802Z",
     "iopub.status.busy": "2022-11-12T17:25:58.040832Z",
     "iopub.status.idle": "2022-11-12T17:25:58.046250Z",
     "shell.execute_reply": "2022-11-12T17:25:58.045410Z"
    },
    "papermill": {
     "duration": 0.048298,
     "end_time": "2022-11-12T17:25:58.048331",
     "exception": false,
     "start_time": "2022-11-12T17:25:58.000033",
     "status": "completed"
    },
    "tags": []
   },
   "outputs": [],
   "source": [
    "def bar_plt(categories, counts, title):\n",
    "    plt.figure(figsize=(10,10))\n",
    "    plt.bar(categories, counts, width=0.65)\n",
    "    plt.title(title)\n",
    "    plt.show()"
   ]
  },
  {
   "cell_type": "markdown",
   "id": "4a65b26e",
   "metadata": {
    "papermill": {
     "duration": 0.039202,
     "end_time": "2022-11-12T17:25:58.127410",
     "exception": false,
     "start_time": "2022-11-12T17:25:58.088208",
     "status": "completed"
    },
    "tags": []
   },
   "source": [
    "### 3.1 Влияние класса билета на выживаемость"
   ]
  },
  {
   "cell_type": "code",
   "execution_count": 17,
   "id": "2cde3153",
   "metadata": {
    "execution": {
     "iopub.execute_input": "2022-11-12T17:25:58.208140Z",
     "iopub.status.busy": "2022-11-12T17:25:58.207652Z",
     "iopub.status.idle": "2022-11-12T17:25:58.436152Z",
     "shell.execute_reply": "2022-11-12T17:25:58.434792Z"
    },
    "papermill": {
     "duration": 0.271868,
     "end_time": "2022-11-12T17:25:58.438556",
     "exception": false,
     "start_time": "2022-11-12T17:25:58.166688",
     "status": "completed"
    },
    "tags": []
   },
   "outputs": [
    {
     "data": {
      "image/png": "[encoded data removed]",
      "text/plain": [
       "<Figure size 720x720 with 1 Axes>"
      ]
     },
     "metadata": {
      "needs_background": "light"
     },
     "output_type": "display_data"
    }
   ],
   "source": [
    "bar_plt(\n",
    "    [\"Not Survived\", \"Survived\"],\n",
    "    df['Survived'].value_counts().values,\n",
    "    'Survivers Distribution',\n",
    ")"
   ]
  },
  {
   "cell_type": "code",
   "execution_count": 18,
   "id": "c808e507",
   "metadata": {
    "execution": {
     "iopub.execute_input": "2022-11-12T17:25:58.521956Z",
     "iopub.status.busy": "2022-11-12T17:25:58.521563Z",
     "iopub.status.idle": "2022-11-12T17:25:58.722637Z",
     "shell.execute_reply": "2022-11-12T17:25:58.721432Z"
    },
    "papermill": {
     "duration": 0.24567,
     "end_time": "2022-11-12T17:25:58.725064",
     "exception": false,
     "start_time": "2022-11-12T17:25:58.479394",
     "status": "completed"
    },
    "tags": []
   },
   "outputs": [
    {
     "data": {
      "image/png": "[encoded data removed]",
      "text/plain": [
       "<Figure size 720x720 with 1 Axes>"
      ]
     },
     "metadata": {
      "needs_background": "light"
     },
     "output_type": "display_data"
    }
   ],
   "source": [
    "bar_plt(\n",
    "    [\"1\", \"2\", \"3\"],\n",
    "    df['Pclass'].value_counts().values,\n",
    "    'Class Distribution',\n",
    ")"
   ]
  },
  {
   "cell_type": "code",
   "execution_count": 19,
   "id": "0fa5649d",
   "metadata": {
    "execution": {
     "iopub.execute_input": "2022-11-12T17:25:58.809490Z",
     "iopub.status.busy": "2022-11-12T17:25:58.808518Z",
     "iopub.status.idle": "2022-11-12T17:25:59.026793Z",
     "shell.execute_reply": "2022-11-12T17:25:59.025357Z"
    },
    "papermill": {
     "duration": 0.263376,
     "end_time": "2022-11-12T17:25:59.029211",
     "exception": false,
     "start_time": "2022-11-12T17:25:58.765835",
     "status": "completed"
    },
    "tags": []
   },
   "outputs": [
    {
     "data": {
      "image/png": "[encoded data removed]",
      "text/plain": [
       "<Figure size 720x720 with 1 Axes>"
      ]
     },
     "metadata": {
      "needs_background": "light"
     },
     "output_type": "display_data"
    }
   ],
   "source": [
    "spis = []\n",
    "for cl in [1, 2, 3]:\n",
    "    for surv in [1, 0]:\n",
    "        if surv == 1:\n",
    "            spis.append('Survived ' + str(cl))\n",
    "        else:\n",
    "            spis.append('Not Survived ' + str(cl))\n",
    "\n",
    "bar_plt(\n",
    "    spis,\n",
    "    df.groupby('Pclass').Survived.value_counts(),\n",
    "    'Survivers Distribution'\n",
    ")"
   ]
  },
  {
   "cell_type": "markdown",
   "id": "84e81f5e",
   "metadata": {
    "papermill": {
     "duration": 0.040096,
     "end_time": "2022-11-12T17:25:59.110107",
     "exception": false,
     "start_time": "2022-11-12T17:25:59.070011",
     "status": "completed"
    },
    "tags": []
   },
   "source": [
    "***Исходя из полученных результатов:***\n",
    "* Пассажиры более высокого класса имели наибольшие шансы на спасение."
   ]
  },
  {
   "cell_type": "markdown",
   "id": "7b056aaa",
   "metadata": {
    "papermill": {
     "duration": 0.039963,
     "end_time": "2022-11-12T17:25:59.192255",
     "exception": false,
     "start_time": "2022-11-12T17:25:59.152292",
     "status": "completed"
    },
    "tags": []
   },
   "source": [
    "### 3.3 Влияние пола на выживаемость"
   ]
  },
  {
   "cell_type": "code",
   "execution_count": 20,
   "id": "61bb7762",
   "metadata": {
    "execution": {
     "iopub.execute_input": "2022-11-12T17:25:59.274411Z",
     "iopub.status.busy": "2022-11-12T17:25:59.273960Z",
     "iopub.status.idle": "2022-11-12T17:25:59.540574Z",
     "shell.execute_reply": "2022-11-12T17:25:59.539312Z"
    },
    "papermill": {
     "duration": 0.310357,
     "end_time": "2022-11-12T17:25:59.542897",
     "exception": false,
     "start_time": "2022-11-12T17:25:59.232540",
     "status": "completed"
    },
    "tags": []
   },
   "outputs": [
    {
     "data": {
      "image/png": "[encoded data removed]",
      "text/plain": [
       "<Figure size 720x720 with 1 Axes>"
      ]
     },
     "metadata": {
      "needs_background": "light"
     },
     "output_type": "display_data"
    }
   ],
   "source": [
    "tab = pd.crosstab(df['Pclass'], df['Sex'])\n",
    "\n",
    "tab.div(tab.sum(1).astype(float), axis=0).plot(kind=\"bar\", stacked=True, figsize=(10,10))\n",
    "plt.xlabel('Pclass')\n",
    "plt.ylabel('Percentage')\n",
    "plt.title('Survivers Distribution')\n",
    "plt.show()"
   ]
  },
  {
   "cell_type": "code",
   "execution_count": 21,
   "id": "10ad2913",
   "metadata": {
    "execution": {
     "iopub.execute_input": "2022-11-12T17:25:59.628932Z",
     "iopub.status.busy": "2022-11-12T17:25:59.628535Z",
     "iopub.status.idle": "2022-11-12T17:26:00.193658Z",
     "shell.execute_reply": "2022-11-12T17:26:00.192609Z"
    },
    "papermill": {
     "duration": 0.610107,
     "end_time": "2022-11-12T17:26:00.195967",
     "exception": false,
     "start_time": "2022-11-12T17:25:59.585860",
     "status": "completed"
    },
    "tags": []
   },
   "outputs": [
    {
     "data": {
      "image/png": "[encoded data removed]",
      "text/plain": [
       "<Figure size 790.5x360 with 1 Axes>"
      ]
     },
     "metadata": {
      "needs_background": "light"
     },
     "output_type": "display_data"
    }
   ],
   "source": [
    "sns.catplot(x='Pclass', y='Survived', hue='Sex', aspect=2, data=df, kind='point', figsize=(10,15))\n",
    "plt.title('Survivers Distribution')\n",
    "plt.show()"
   ]
  },
  {
   "cell_type": "markdown",
   "id": "212e635d",
   "metadata": {
    "papermill": {
     "duration": 0.040939,
     "end_time": "2022-11-12T17:26:00.282201",
     "exception": false,
     "start_time": "2022-11-12T17:26:00.241262",
     "status": "completed"
    },
    "tags": []
   },
   "source": [
    "***Исходя из полученных результатов:***\n",
    "* Женщины из 1 и 2 классов имели практически **100%** на спасение;\n",
    "* Мужчины из 2 и 3 классов имели **~16%** на спасение;\n",
    "* Очевидно, что независимо от `Pclass`, женщинам давали приоритет во время спасения."
   ]
  },
  {
   "cell_type": "markdown",
   "id": "b1d632f7",
   "metadata": {
    "papermill": {
     "duration": 0.040708,
     "end_time": "2022-11-12T17:26:00.363963",
     "exception": false,
     "start_time": "2022-11-12T17:26:00.323255",
     "status": "completed"
    },
    "tags": []
   },
   "source": [
    "### 3.4 Распределение пассажиров по классам, исходя из места их посадки"
   ]
  },
  {
   "cell_type": "code",
   "execution_count": 22,
   "id": "ef195056",
   "metadata": {
    "execution": {
     "iopub.execute_input": "2022-11-12T17:26:00.449951Z",
     "iopub.status.busy": "2022-11-12T17:26:00.449144Z",
     "iopub.status.idle": "2022-11-12T17:26:00.648496Z",
     "shell.execute_reply": "2022-11-12T17:26:00.647308Z"
    },
    "papermill": {
     "duration": 0.244444,
     "end_time": "2022-11-12T17:26:00.651228",
     "exception": false,
     "start_time": "2022-11-12T17:26:00.406784",
     "status": "completed"
    },
    "tags": []
   },
   "outputs": [
    {
     "data": {
      "image/png": "[encoded data removed]",
      "text/plain": [
       "<Figure size 720x720 with 1 Axes>"
      ]
     },
     "metadata": {
      "needs_background": "light"
     },
     "output_type": "display_data"
    }
   ],
   "source": [
    "bar_plt(\n",
    "    [\"Саутгемптон (S)\", \"Шербург (C)\", \"Квинстаун (Q)\"],\n",
    "    df['Embarked'].value_counts(),\n",
    "    'Passengers Distribution',\n",
    ")"
   ]
  },
  {
   "cell_type": "code",
   "execution_count": 23,
   "id": "d14e64cf",
   "metadata": {
    "execution": {
     "iopub.execute_input": "2022-11-12T17:26:00.737367Z",
     "iopub.status.busy": "2022-11-12T17:26:00.736332Z",
     "iopub.status.idle": "2022-11-12T17:26:00.934075Z",
     "shell.execute_reply": "2022-11-12T17:26:00.933086Z"
    },
    "papermill": {
     "duration": 0.243791,
     "end_time": "2022-11-12T17:26:00.936718",
     "exception": false,
     "start_time": "2022-11-12T17:26:00.692927",
     "status": "completed"
    },
    "tags": []
   },
   "outputs": [
    {
     "data": {
      "image/png": "[encoded data removed]",
      "text/plain": [
       "<Figure size 720x720 with 1 Axes>"
      ]
     },
     "metadata": {
      "needs_background": "light"
     },
     "output_type": "display_data"
    }
   ],
   "source": [
    "plt.figure(figsize=(10,10))\n",
    "sns.barplot(x='Embarked', y='Survived', data=df, ci=None)\n",
    "plt.title('Survivers Distribution')\n",
    "plt.show()"
   ]
  },
  {
   "cell_type": "code",
   "execution_count": 24,
   "id": "db5615b9",
   "metadata": {
    "execution": {
     "iopub.execute_input": "2022-11-12T17:26:01.039355Z",
     "iopub.status.busy": "2022-11-12T17:26:01.038154Z",
     "iopub.status.idle": "2022-11-12T17:26:01.333707Z",
     "shell.execute_reply": "2022-11-12T17:26:01.329689Z"
    },
    "papermill": {
     "duration": 0.356897,
     "end_time": "2022-11-12T17:26:01.336608",
     "exception": false,
     "start_time": "2022-11-12T17:26:00.979711",
     "status": "completed"
    },
    "tags": []
   },
   "outputs": [
    {
     "data": {
      "image/png": "[encoded data removed]",
      "text/plain": [
       "<Figure size 720x720 with 1 Axes>"
      ]
     },
     "metadata": {
      "needs_background": "light"
     },
     "output_type": "display_data"
    }
   ],
   "source": [
    "tab = pd.crosstab(df['Embarked'], df['Pclass'])\n",
    "\n",
    "tab.div(tab.sum(1).astype(float), axis=0).plot(kind=\"bar\", stacked=True, figsize=(10,10))\n",
    "plt.xlabel('Embarked')\n",
    "plt.ylabel('Percentage')\n",
    "plt.title('Passengers Distribution')\n",
    "plt.show()"
   ]
  },
  {
   "cell_type": "markdown",
   "id": "1d2b1dfe",
   "metadata": {
    "papermill": {
     "duration": 0.054616,
     "end_time": "2022-11-12T17:26:01.444126",
     "exception": false,
     "start_time": "2022-11-12T17:26:01.389510",
     "status": "completed"
    },
    "tags": []
   },
   "source": [
    "***Исходя из полученных результатов:***\n",
    "* `C`-Шербург (второй порт посадки): \n",
    "    - Наибольшее кол-во пассажиров были из 1-го класса;\n",
    "    - Наибольшее кол-во выживших отправилось из данного порта.\n",
    "* `S`-Саутгемптон (первый порт):\n",
    "    - Наибольшее кол-во пассажиров были из 2-го класса; \n",
    "    - Из этого порта отправилось наименьшее кол-во выживших;\n",
    "    - Место посадки наибольшего кол-ва пассажиров.\n",
    "* `Q`-Квинстаун (последний порт на пути следования):\n",
    "    - наибольшее кол-во пассажиров были из 3-го класса."
   ]
  },
  {
   "cell_type": "markdown",
   "id": "c4d9cc17",
   "metadata": {
    "papermill": {
     "duration": 0.046594,
     "end_time": "2022-11-12T17:26:01.534042",
     "exception": false,
     "start_time": "2022-11-12T17:26:01.487448",
     "status": "completed"
    },
    "tags": []
   },
   "source": [
    "### 3.5 Влияние возраста на выживаемость"
   ]
  },
  {
   "cell_type": "code",
   "execution_count": 25,
   "id": "fd18da7a",
   "metadata": {
    "execution": {
     "iopub.execute_input": "2022-11-12T17:26:01.621841Z",
     "iopub.status.busy": "2022-11-12T17:26:01.621463Z",
     "iopub.status.idle": "2022-11-12T17:26:01.630050Z",
     "shell.execute_reply": "2022-11-12T17:26:01.628723Z"
    },
    "papermill": {
     "duration": 0.054459,
     "end_time": "2022-11-12T17:26:01.632108",
     "exception": false,
     "start_time": "2022-11-12T17:26:01.577649",
     "status": "completed"
    },
    "tags": []
   },
   "outputs": [
    {
     "name": "stdout",
     "output_type": "stream",
     "text": [
      "Oldest Passenger was of: 80.0 Years\n",
      "Youngest Passenger was of: 0.42 Years\n",
      "Average Age on the ship: 29.69911764705882 Years\n"
     ]
    }
   ],
   "source": [
    "print(f'Oldest Passenger was of: {df[\"Age\"].max()} Years')\n",
    "print(f'Youngest Passenger was of: {df[\"Age\"].min()} Years')\n",
    "print(f'Average Age on the ship: {df[\"Age\"].mean()} Years')"
   ]
  },
  {
   "cell_type": "code",
   "execution_count": 26,
   "id": "88eed339",
   "metadata": {
    "execution": {
     "iopub.execute_input": "2022-11-12T17:26:01.719544Z",
     "iopub.status.busy": "2022-11-12T17:26:01.718545Z",
     "iopub.status.idle": "2022-11-12T17:26:02.430790Z",
     "shell.execute_reply": "2022-11-12T17:26:02.429659Z"
    },
    "papermill": {
     "duration": 0.759501,
     "end_time": "2022-11-12T17:26:02.434055",
     "exception": false,
     "start_time": "2022-11-12T17:26:01.674554",
     "status": "completed"
    },
    "tags": []
   },
   "outputs": [
    {
     "data": {
      "image/png": "[encoded data removed]",
      "text/plain": [
       "<Figure size 1440x720 with 3 Axes>"
      ]
     },
     "metadata": {
      "needs_background": "light"
     },
     "output_type": "display_data"
    }
   ],
   "source": [
    "#subplots\n",
    "fig, ax=plt.subplots(1,3,figsize=(20,10))\n",
    "\n",
    "sns.violinplot(\"Pclass\", \"Age\", hue=\"Survived\", data=df, split=True, ax=ax[0])\n",
    "ax[0].set_title('Pclass and Age vs Survived')\n",
    "ax[0].set_yticks(range(0,110,10))\n",
    "\n",
    "sns.violinplot(\"Sex\", \"Age\", hue=\"Survived\", data=df, split=True, ax=ax[1])\n",
    "ax[1].set_title('Sex and Age vs Survived')\n",
    "ax[1].set_yticks(range(0,110,10))\n",
    "\n",
    "sns.violinplot(\"Embarked\", \"Age\", hue=\"Survived\", data=df, split=True, ax=ax[2])\n",
    "ax[2].set_title('Sex and Age vs Survived')\n",
    "ax[2].set_yticks(range(0,110,10))\n",
    "plt.show()"
   ]
  },
  {
   "cell_type": "markdown",
   "id": "e0dd3b15",
   "metadata": {
    "papermill": {
     "duration": 0.043304,
     "end_time": "2022-11-12T17:26:02.521665",
     "exception": false,
     "start_time": "2022-11-12T17:26:02.478361",
     "status": "completed"
    },
    "tags": []
   },
   "source": [
    "***Исходя из полученных результатов:***\n",
    "* Самой старшей категорией стали пассажиры 1-го класса;\n",
    "* Более молодые люди из первого класса спасались по сравнению к более пожилым.\n",
    "* Почти все дети(0-10) из 2-го класса спаслись;\n",
    "* Большинству детей 3-го класса удалось спастись;\n",
    "* Большинство детей мужского пола(0-14) спаслись;\n",
    "* Девушки и жещины имели больший шанс на спасение."
   ]
  },
  {
   "cell_type": "markdown",
   "id": "205940eb",
   "metadata": {
    "papermill": {
     "duration": 0.04345,
     "end_time": "2022-11-12T17:26:02.609223",
     "exception": false,
     "start_time": "2022-11-12T17:26:02.565773",
     "status": "completed"
    },
    "tags": []
   },
   "source": [
    "## 4. Preprocessing"
   ]
  },
  {
   "cell_type": "code",
   "execution_count": 27,
   "id": "1ec3eaef",
   "metadata": {
    "execution": {
     "iopub.execute_input": "2022-11-12T17:26:02.699325Z",
     "iopub.status.busy": "2022-11-12T17:26:02.698529Z",
     "iopub.status.idle": "2022-11-12T17:26:02.890728Z",
     "shell.execute_reply": "2022-11-12T17:26:02.889834Z"
    },
    "papermill": {
     "duration": 0.241082,
     "end_time": "2022-11-12T17:26:02.894008",
     "exception": false,
     "start_time": "2022-11-12T17:26:02.652926",
     "status": "completed"
    },
    "tags": []
   },
   "outputs": [],
   "source": [
    "p_df_train, p_df_test = train_df.toPandas(), test_df.toPandas() # Pandas_DataFrame\n",
    "train_test_data = [p_df_train, p_df_test]\n",
    "\n",
    "for dataset in train_test_data:\n",
    "    dataset['Title'] = dataset.Name.str.extract(' ([A-Za-z]+)\\.')"
   ]
  },
  {
   "cell_type": "markdown",
   "id": "ff12c3ec",
   "metadata": {
    "papermill": {
     "duration": 0.045578,
     "end_time": "2022-11-12T17:26:03.003233",
     "exception": false,
     "start_time": "2022-11-12T17:26:02.957655",
     "status": "completed"
    },
    "tags": []
   },
   "source": [
    "Если посмотреть на то, как заданы имена в датасете, то можно заметить, что имена предворяются обращениями/титулами (напр. Mr., Dr., Ms., и т.д.). Это может добавить доп. информации о персоне - статус, положение в обществе и пр., по крайней мере, как они были записаны в билетах.\n",
    "\n",
    "Попробуем извлечь \"Обращения\" из столбцов имен (колонка `Name`) в отдельный признак."
   ]
  },
  {
   "cell_type": "code",
   "execution_count": 28,
   "id": "d259cddf",
   "metadata": {
    "execution": {
     "iopub.execute_input": "2022-11-12T17:26:03.095789Z",
     "iopub.status.busy": "2022-11-12T17:26:03.095345Z",
     "iopub.status.idle": "2022-11-12T17:26:03.117033Z",
     "shell.execute_reply": "2022-11-12T17:26:03.116235Z"
    },
    "papermill": {
     "duration": 0.069462,
     "end_time": "2022-11-12T17:26:03.119321",
     "exception": false,
     "start_time": "2022-11-12T17:26:03.049859",
     "status": "completed"
    },
    "tags": []
   },
   "outputs": [
    {
     "data": {
      "text/html": [
       "<div>\n",
       "<style scoped>\n",
       "    .dataframe tbody tr th:only-of-type {\n",
       "        vertical-align: middle;\n",
       "    }\n",
       "\n",
       "    .dataframe tbody tr th {\n",
       "        vertical-align: top;\n",
       "    }\n",
       "\n",
       "    .dataframe thead th {\n",
       "        text-align: right;\n",
       "    }\n",
       "</style>\n",
       "<table border=\"1\" class=\"dataframe\">\n",
       "  <thead>\n",
       "    <tr style=\"text-align: right;\">\n",
       "      <th>Sex</th>\n",
       "      <th>female</th>\n",
       "      <th>male</th>\n",
       "    </tr>\n",
       "    <tr>\n",
       "      <th>Title</th>\n",
       "      <th></th>\n",
       "      <th></th>\n",
       "    </tr>\n",
       "  </thead>\n",
       "  <tbody>\n",
       "    <tr>\n",
       "      <th>Capt</th>\n",
       "      <td>0</td>\n",
       "      <td>1</td>\n",
       "    </tr>\n",
       "    <tr>\n",
       "      <th>Col</th>\n",
       "      <td>0</td>\n",
       "      <td>2</td>\n",
       "    </tr>\n",
       "    <tr>\n",
       "      <th>Countess</th>\n",
       "      <td>1</td>\n",
       "      <td>0</td>\n",
       "    </tr>\n",
       "    <tr>\n",
       "      <th>Don</th>\n",
       "      <td>0</td>\n",
       "      <td>1</td>\n",
       "    </tr>\n",
       "    <tr>\n",
       "      <th>Dr</th>\n",
       "      <td>1</td>\n",
       "      <td>6</td>\n",
       "    </tr>\n",
       "    <tr>\n",
       "      <th>Jonkheer</th>\n",
       "      <td>0</td>\n",
       "      <td>1</td>\n",
       "    </tr>\n",
       "    <tr>\n",
       "      <th>Lady</th>\n",
       "      <td>1</td>\n",
       "      <td>0</td>\n",
       "    </tr>\n",
       "    <tr>\n",
       "      <th>Major</th>\n",
       "      <td>0</td>\n",
       "      <td>2</td>\n",
       "    </tr>\n",
       "    <tr>\n",
       "      <th>Master</th>\n",
       "      <td>0</td>\n",
       "      <td>40</td>\n",
       "    </tr>\n",
       "    <tr>\n",
       "      <th>Miss</th>\n",
       "      <td>182</td>\n",
       "      <td>0</td>\n",
       "    </tr>\n",
       "    <tr>\n",
       "      <th>Mlle</th>\n",
       "      <td>2</td>\n",
       "      <td>0</td>\n",
       "    </tr>\n",
       "    <tr>\n",
       "      <th>Mme</th>\n",
       "      <td>1</td>\n",
       "      <td>0</td>\n",
       "    </tr>\n",
       "    <tr>\n",
       "      <th>Mr</th>\n",
       "      <td>0</td>\n",
       "      <td>517</td>\n",
       "    </tr>\n",
       "    <tr>\n",
       "      <th>Mrs</th>\n",
       "      <td>125</td>\n",
       "      <td>0</td>\n",
       "    </tr>\n",
       "    <tr>\n",
       "      <th>Ms</th>\n",
       "      <td>1</td>\n",
       "      <td>0</td>\n",
       "    </tr>\n",
       "    <tr>\n",
       "      <th>Rev</th>\n",
       "      <td>0</td>\n",
       "      <td>6</td>\n",
       "    </tr>\n",
       "    <tr>\n",
       "      <th>Sir</th>\n",
       "      <td>0</td>\n",
       "      <td>1</td>\n",
       "    </tr>\n",
       "  </tbody>\n",
       "</table>\n",
       "</div>"
      ],
      "text/plain": [
       "Sex       female  male\n",
       "Title                 \n",
       "Capt           0     1\n",
       "Col            0     2\n",
       "Countess       1     0\n",
       "Don            0     1\n",
       "Dr             1     6\n",
       "Jonkheer       0     1\n",
       "Lady           1     0\n",
       "Major          0     2\n",
       "Master         0    40\n",
       "Miss         182     0\n",
       "Mlle           2     0\n",
       "Mme            1     0\n",
       "Mr             0   517\n",
       "Mrs          125     0\n",
       "Ms             1     0\n",
       "Rev            0     6\n",
       "Sir            0     1"
      ]
     },
     "execution_count": 28,
     "metadata": {},
     "output_type": "execute_result"
    }
   ],
   "source": [
    "pd.crosstab(p_df_train['Title'], p_df_train['Sex'])"
   ]
  },
  {
   "cell_type": "markdown",
   "id": "e77e8919",
   "metadata": {
    "papermill": {
     "duration": 0.044056,
     "end_time": "2022-11-12T17:26:03.208925",
     "exception": false,
     "start_time": "2022-11-12T17:26:03.164869",
     "status": "completed"
    },
    "tags": []
   },
   "source": [
    "Теперь заменим некоторые \"не используемые\" обращения значением \"Other\"."
   ]
  },
  {
   "cell_type": "code",
   "execution_count": 29,
   "id": "0e2b04fd",
   "metadata": {
    "execution": {
     "iopub.execute_input": "2022-11-12T17:26:03.369887Z",
     "iopub.status.busy": "2022-11-12T17:26:03.369199Z",
     "iopub.status.idle": "2022-11-12T17:26:03.393728Z",
     "shell.execute_reply": "2022-11-12T17:26:03.392854Z"
    },
    "papermill": {
     "duration": 0.072637,
     "end_time": "2022-11-12T17:26:03.395833",
     "exception": false,
     "start_time": "2022-11-12T17:26:03.323196",
     "status": "completed"
    },
    "tags": []
   },
   "outputs": [
    {
     "data": {
      "text/html": [
       "<div>\n",
       "<style scoped>\n",
       "    .dataframe tbody tr th:only-of-type {\n",
       "        vertical-align: middle;\n",
       "    }\n",
       "\n",
       "    .dataframe tbody tr th {\n",
       "        vertical-align: top;\n",
       "    }\n",
       "\n",
       "    .dataframe thead th {\n",
       "        text-align: right;\n",
       "    }\n",
       "</style>\n",
       "<table border=\"1\" class=\"dataframe\">\n",
       "  <thead>\n",
       "    <tr style=\"text-align: right;\">\n",
       "      <th></th>\n",
       "      <th>Title</th>\n",
       "      <th>Survived</th>\n",
       "    </tr>\n",
       "  </thead>\n",
       "  <tbody>\n",
       "    <tr>\n",
       "      <th>0</th>\n",
       "      <td>Master</td>\n",
       "      <td>0.575000</td>\n",
       "    </tr>\n",
       "    <tr>\n",
       "      <th>1</th>\n",
       "      <td>Miss</td>\n",
       "      <td>0.702703</td>\n",
       "    </tr>\n",
       "    <tr>\n",
       "      <th>2</th>\n",
       "      <td>Mr</td>\n",
       "      <td>0.156673</td>\n",
       "    </tr>\n",
       "    <tr>\n",
       "      <th>3</th>\n",
       "      <td>Mrs</td>\n",
       "      <td>0.793651</td>\n",
       "    </tr>\n",
       "    <tr>\n",
       "      <th>4</th>\n",
       "      <td>Other</td>\n",
       "      <td>0.347826</td>\n",
       "    </tr>\n",
       "  </tbody>\n",
       "</table>\n",
       "</div>"
      ],
      "text/plain": [
       "    Title  Survived\n",
       "0  Master  0.575000\n",
       "1    Miss  0.702703\n",
       "2      Mr  0.156673\n",
       "3     Mrs  0.793651\n",
       "4   Other  0.347826"
      ]
     },
     "execution_count": 29,
     "metadata": {},
     "output_type": "execute_result"
    }
   ],
   "source": [
    "for dataset in train_test_data:\n",
    "    dataset['Title'] = dataset['Title'].replace(['Lady', 'Countess', 'Capt', 'Col', 'Don', 'Dr',\\\n",
    "                                                 'Major', 'Rev', 'Sir', 'Jonkheer', 'Dona'], 'Other')\n",
    "\n",
    "    dataset['Title'] = dataset['Title'].replace('Mlle', 'Miss')\n",
    "    dataset['Title'] = dataset['Title'].replace('Ms', 'Miss')\n",
    "    dataset['Title'] = dataset['Title'].replace('Mme', 'Mrs')\n",
    "\n",
    "p_df_train[['Title', 'Survived']].groupby(['Title'], as_index=False).mean()"
   ]
  },
  {
   "cell_type": "markdown",
   "id": "481afc4d",
   "metadata": {
    "papermill": {
     "duration": 0.044543,
     "end_time": "2022-11-12T17:26:03.485183",
     "exception": false,
     "start_time": "2022-11-12T17:26:03.440640",
     "status": "completed"
    },
    "tags": []
   },
   "source": [
    "Сделаем порядковое преобразование."
   ]
  },
  {
   "cell_type": "code",
   "execution_count": 30,
   "id": "ad827738",
   "metadata": {
    "execution": {
     "iopub.execute_input": "2022-11-12T17:26:03.578502Z",
     "iopub.status.busy": "2022-11-12T17:26:03.577829Z",
     "iopub.status.idle": "2022-11-12T17:26:03.607227Z",
     "shell.execute_reply": "2022-11-12T17:26:03.606062Z"
    },
    "papermill": {
     "duration": 0.078138,
     "end_time": "2022-11-12T17:26:03.609615",
     "exception": false,
     "start_time": "2022-11-12T17:26:03.531477",
     "status": "completed"
    },
    "tags": []
   },
   "outputs": [
    {
     "data": {
      "text/html": [
       "<div>\n",
       "<style scoped>\n",
       "    .dataframe tbody tr th:only-of-type {\n",
       "        vertical-align: middle;\n",
       "    }\n",
       "\n",
       "    .dataframe tbody tr th {\n",
       "        vertical-align: top;\n",
       "    }\n",
       "\n",
       "    .dataframe thead th {\n",
       "        text-align: right;\n",
       "    }\n",
       "</style>\n",
       "<table border=\"1\" class=\"dataframe\">\n",
       "  <thead>\n",
       "    <tr style=\"text-align: right;\">\n",
       "      <th></th>\n",
       "      <th>PassengerId</th>\n",
       "      <th>Survived</th>\n",
       "      <th>Pclass</th>\n",
       "      <th>Name</th>\n",
       "      <th>Sex</th>\n",
       "      <th>Age</th>\n",
       "      <th>SibSp</th>\n",
       "      <th>Parch</th>\n",
       "      <th>Ticket</th>\n",
       "      <th>Fare</th>\n",
       "      <th>Cabin</th>\n",
       "      <th>Embarked</th>\n",
       "      <th>Title</th>\n",
       "    </tr>\n",
       "  </thead>\n",
       "  <tbody>\n",
       "    <tr>\n",
       "      <th>0</th>\n",
       "      <td>1</td>\n",
       "      <td>0</td>\n",
       "      <td>3</td>\n",
       "      <td>Braund, Mr. Owen Harris</td>\n",
       "      <td>1</td>\n",
       "      <td>22.0</td>\n",
       "      <td>1</td>\n",
       "      <td>0</td>\n",
       "      <td>A/5 21171</td>\n",
       "      <td>7.2500</td>\n",
       "      <td>None</td>\n",
       "      <td>0</td>\n",
       "      <td>1</td>\n",
       "    </tr>\n",
       "    <tr>\n",
       "      <th>1</th>\n",
       "      <td>2</td>\n",
       "      <td>1</td>\n",
       "      <td>1</td>\n",
       "      <td>Cumings, Mrs. John Bradley (Florence Briggs Th...</td>\n",
       "      <td>0</td>\n",
       "      <td>38.0</td>\n",
       "      <td>1</td>\n",
       "      <td>0</td>\n",
       "      <td>PC 17599</td>\n",
       "      <td>71.2833</td>\n",
       "      <td>C85</td>\n",
       "      <td>1</td>\n",
       "      <td>3</td>\n",
       "    </tr>\n",
       "    <tr>\n",
       "      <th>2</th>\n",
       "      <td>3</td>\n",
       "      <td>1</td>\n",
       "      <td>3</td>\n",
       "      <td>Heikkinen, Miss. Laina</td>\n",
       "      <td>0</td>\n",
       "      <td>26.0</td>\n",
       "      <td>0</td>\n",
       "      <td>0</td>\n",
       "      <td>STON/O2. 3101282</td>\n",
       "      <td>7.9250</td>\n",
       "      <td>None</td>\n",
       "      <td>0</td>\n",
       "      <td>2</td>\n",
       "    </tr>\n",
       "    <tr>\n",
       "      <th>3</th>\n",
       "      <td>4</td>\n",
       "      <td>1</td>\n",
       "      <td>1</td>\n",
       "      <td>Futrelle, Mrs. Jacques Heath (Lily May Peel)</td>\n",
       "      <td>0</td>\n",
       "      <td>35.0</td>\n",
       "      <td>1</td>\n",
       "      <td>0</td>\n",
       "      <td>113803</td>\n",
       "      <td>53.1000</td>\n",
       "      <td>C123</td>\n",
       "      <td>0</td>\n",
       "      <td>3</td>\n",
       "    </tr>\n",
       "    <tr>\n",
       "      <th>4</th>\n",
       "      <td>5</td>\n",
       "      <td>0</td>\n",
       "      <td>3</td>\n",
       "      <td>Allen, Mr. William Henry</td>\n",
       "      <td>1</td>\n",
       "      <td>35.0</td>\n",
       "      <td>0</td>\n",
       "      <td>0</td>\n",
       "      <td>373450</td>\n",
       "      <td>8.0500</td>\n",
       "      <td>None</td>\n",
       "      <td>0</td>\n",
       "      <td>1</td>\n",
       "    </tr>\n",
       "  </tbody>\n",
       "</table>\n",
       "</div>"
      ],
      "text/plain": [
       "   PassengerId  Survived  Pclass  \\\n",
       "0            1         0       3   \n",
       "1            2         1       1   \n",
       "2            3         1       3   \n",
       "3            4         1       1   \n",
       "4            5         0       3   \n",
       "\n",
       "                                                Name  Sex   Age  SibSp  Parch  \\\n",
       "0                            Braund, Mr. Owen Harris    1  22.0      1      0   \n",
       "1  Cumings, Mrs. John Bradley (Florence Briggs Th...    0  38.0      1      0   \n",
       "2                             Heikkinen, Miss. Laina    0  26.0      0      0   \n",
       "3       Futrelle, Mrs. Jacques Heath (Lily May Peel)    0  35.0      1      0   \n",
       "4                           Allen, Mr. William Henry    1  35.0      0      0   \n",
       "\n",
       "             Ticket     Fare Cabin  Embarked  Title  \n",
       "0         A/5 21171   7.2500  None         0      1  \n",
       "1          PC 17599  71.2833   C85         1      3  \n",
       "2  STON/O2. 3101282   7.9250  None         0      2  \n",
       "3            113803  53.1000  C123         0      3  \n",
       "4            373450   8.0500  None         0      1  "
      ]
     },
     "execution_count": 30,
     "metadata": {},
     "output_type": "execute_result"
    }
   ],
   "source": [
    "title_mapping = {\"Mr\": 1, \"Miss\": 2, \"Mrs\": 3, \"Master\": 4, \"Rare\": 5}\n",
    "sex_mapping = {'female': 0, 'male': 1}\n",
    "emb_mapping = {'S': 0, 'C': 1, 'Q': 2}\n",
    "\n",
    "for dataset in train_test_data:\n",
    "    dataset['Title'] = dataset['Title'].map(title_mapping)\n",
    "    dataset['Title'] = dataset['Title'].fillna(0).astype(int)\n",
    "    \n",
    "    dataset['Sex'] = dataset['Sex'].map(sex_mapping).astype(int)\n",
    "    \n",
    "    dataset['Embarked'] = dataset['Embarked'].fillna('S') # Заполнили модой\n",
    "    dataset['Embarked'] = dataset['Embarked'].map(emb_mapping).astype(int)\n",
    "\n",
    "p_df_train.head()"
   ]
  },
  {
   "cell_type": "markdown",
   "id": "4eea62b3",
   "metadata": {
    "papermill": {
     "duration": 0.044537,
     "end_time": "2022-11-12T17:26:03.699417",
     "exception": false,
     "start_time": "2022-11-12T17:26:03.654880",
     "status": "completed"
    },
    "tags": []
   },
   "source": [
    "Теперь мы можем удалить столбцы с id, именем, номером билета/каюты пассажиров т.к. эти фичи больше не несут смысловой нагрузки."
   ]
  },
  {
   "cell_type": "code",
   "execution_count": 31,
   "id": "1b0c7099",
   "metadata": {
    "execution": {
     "iopub.execute_input": "2022-11-12T17:26:03.792036Z",
     "iopub.status.busy": "2022-11-12T17:26:03.791237Z",
     "iopub.status.idle": "2022-11-12T17:26:03.802223Z",
     "shell.execute_reply": "2022-11-12T17:26:03.800373Z"
    },
    "papermill": {
     "duration": 0.061219,
     "end_time": "2022-11-12T17:26:03.805501",
     "exception": false,
     "start_time": "2022-11-12T17:26:03.744282",
     "status": "completed"
    },
    "tags": []
   },
   "outputs": [
    {
     "name": "stdout",
     "output_type": "stream",
     "text": [
      "Размерность фреймов:\n",
      "Трейн - (891, 9)\n",
      "Тест - (418, 9)\n"
     ]
    }
   ],
   "source": [
    "p_df_train = p_df_train.drop(['Name', 'PassengerId', 'Ticket', 'Cabin'], axis=1)\n",
    "p_df_test = p_df_test.drop(['Name', 'Ticket', 'Cabin'], axis=1)\n",
    "train_test_data = [p_df_train, p_df_test]\n",
    "\n",
    "print(f'Размерность фреймов:\\nТрейн - {p_df_train.shape}\\nТест - {p_df_test.shape}')"
   ]
  },
  {
   "cell_type": "markdown",
   "id": "8903647f",
   "metadata": {
    "papermill": {
     "duration": 0.044963,
     "end_time": "2022-11-12T17:26:03.895702",
     "exception": false,
     "start_time": "2022-11-12T17:26:03.850739",
     "status": "completed"
    },
    "tags": []
   },
   "source": [
    "Столбец `PassengerId` удаляется только из тренировочного датасета, поскольку в Тестовом датасете нужно будет формировать отчет"
   ]
  },
  {
   "cell_type": "code",
   "execution_count": 32,
   "id": "31bd772d",
   "metadata": {
    "execution": {
     "iopub.execute_input": "2022-11-12T17:26:03.987259Z",
     "iopub.status.busy": "2022-11-12T17:26:03.986464Z",
     "iopub.status.idle": "2022-11-12T17:26:04.000513Z",
     "shell.execute_reply": "2022-11-12T17:26:03.999397Z"
    },
    "papermill": {
     "duration": 0.06246,
     "end_time": "2022-11-12T17:26:04.002826",
     "exception": false,
     "start_time": "2022-11-12T17:26:03.940366",
     "status": "completed"
    },
    "tags": []
   },
   "outputs": [
    {
     "data": {
      "text/html": [
       "<div>\n",
       "<style scoped>\n",
       "    .dataframe tbody tr th:only-of-type {\n",
       "        vertical-align: middle;\n",
       "    }\n",
       "\n",
       "    .dataframe tbody tr th {\n",
       "        vertical-align: top;\n",
       "    }\n",
       "\n",
       "    .dataframe thead th {\n",
       "        text-align: right;\n",
       "    }\n",
       "</style>\n",
       "<table border=\"1\" class=\"dataframe\">\n",
       "  <thead>\n",
       "    <tr style=\"text-align: right;\">\n",
       "      <th></th>\n",
       "      <th>Survived</th>\n",
       "      <th>Pclass</th>\n",
       "      <th>Sex</th>\n",
       "      <th>Age</th>\n",
       "      <th>SibSp</th>\n",
       "      <th>Parch</th>\n",
       "      <th>Fare</th>\n",
       "      <th>Embarked</th>\n",
       "      <th>Title</th>\n",
       "    </tr>\n",
       "  </thead>\n",
       "  <tbody>\n",
       "    <tr>\n",
       "      <th>0</th>\n",
       "      <td>0</td>\n",
       "      <td>3</td>\n",
       "      <td>1</td>\n",
       "      <td>22.0</td>\n",
       "      <td>1</td>\n",
       "      <td>0</td>\n",
       "      <td>7.2500</td>\n",
       "      <td>0</td>\n",
       "      <td>1</td>\n",
       "    </tr>\n",
       "    <tr>\n",
       "      <th>1</th>\n",
       "      <td>1</td>\n",
       "      <td>1</td>\n",
       "      <td>0</td>\n",
       "      <td>38.0</td>\n",
       "      <td>1</td>\n",
       "      <td>0</td>\n",
       "      <td>71.2833</td>\n",
       "      <td>1</td>\n",
       "      <td>3</td>\n",
       "    </tr>\n",
       "    <tr>\n",
       "      <th>2</th>\n",
       "      <td>1</td>\n",
       "      <td>3</td>\n",
       "      <td>0</td>\n",
       "      <td>26.0</td>\n",
       "      <td>0</td>\n",
       "      <td>0</td>\n",
       "      <td>7.9250</td>\n",
       "      <td>0</td>\n",
       "      <td>2</td>\n",
       "    </tr>\n",
       "    <tr>\n",
       "      <th>3</th>\n",
       "      <td>1</td>\n",
       "      <td>1</td>\n",
       "      <td>0</td>\n",
       "      <td>35.0</td>\n",
       "      <td>1</td>\n",
       "      <td>0</td>\n",
       "      <td>53.1000</td>\n",
       "      <td>0</td>\n",
       "      <td>3</td>\n",
       "    </tr>\n",
       "    <tr>\n",
       "      <th>4</th>\n",
       "      <td>0</td>\n",
       "      <td>3</td>\n",
       "      <td>1</td>\n",
       "      <td>35.0</td>\n",
       "      <td>0</td>\n",
       "      <td>0</td>\n",
       "      <td>8.0500</td>\n",
       "      <td>0</td>\n",
       "      <td>1</td>\n",
       "    </tr>\n",
       "  </tbody>\n",
       "</table>\n",
       "</div>"
      ],
      "text/plain": [
       "   Survived  Pclass  Sex   Age  SibSp  Parch     Fare  Embarked  Title\n",
       "0         0       3    1  22.0      1      0   7.2500         0      1\n",
       "1         1       1    0  38.0      1      0  71.2833         1      3\n",
       "2         1       3    0  26.0      0      0   7.9250         0      2\n",
       "3         1       1    0  35.0      1      0  53.1000         0      3\n",
       "4         0       3    1  35.0      0      0   8.0500         0      1"
      ]
     },
     "execution_count": 32,
     "metadata": {},
     "output_type": "execute_result"
    }
   ],
   "source": [
    "p_df_train.head()"
   ]
  },
  {
   "cell_type": "markdown",
   "id": "b8e7037d",
   "metadata": {
    "papermill": {
     "duration": 0.045027,
     "end_time": "2022-11-12T17:26:04.092739",
     "exception": false,
     "start_time": "2022-11-12T17:26:04.047712",
     "status": "completed"
    },
    "tags": []
   },
   "source": [
    "Теперь можем поработать со столбцом `Age`\n",
    "1. Сначала заполняем все пустые (`NULL`) значение возраста (`Age`) произвольным числом их диапазона от (`mean_age` +- `std_age`).\n",
    "2. После создадим новый столбец и назовем его `AgeBand`. Он будет содержать категоризированное значение возраста, распределенное по 5ти разным группам."
   ]
  },
  {
   "cell_type": "code",
   "execution_count": 33,
   "id": "116a4b1e",
   "metadata": {
    "execution": {
     "iopub.execute_input": "2022-11-12T17:26:04.188384Z",
     "iopub.status.busy": "2022-11-12T17:26:04.187959Z",
     "iopub.status.idle": "2022-11-12T17:26:04.221596Z",
     "shell.execute_reply": "2022-11-12T17:26:04.220578Z"
    },
    "papermill": {
     "duration": 0.086948,
     "end_time": "2022-11-12T17:26:04.225398",
     "exception": false,
     "start_time": "2022-11-12T17:26:04.138450",
     "status": "completed"
    },
    "tags": []
   },
   "outputs": [
    {
     "name": "stdout",
     "output_type": "stream",
     "text": [
      "         AgeBand  Survived\n",
      "0  (-0.08, 16.0]  0.500000\n",
      "1   (16.0, 32.0]  0.348889\n",
      "2   (32.0, 48.0]  0.390947\n",
      "3   (48.0, 64.0]  0.434783\n",
      "4   (64.0, 80.0]  0.090909\n"
     ]
    }
   ],
   "source": [
    "for dataset in train_test_data:\n",
    "    age_avg = dataset['Age'].mean()\n",
    "    age_std = dataset['Age'].std()\n",
    "    age_null_count = dataset['Age'].isnull().sum()\n",
    "    \n",
    "    age_null_random_list = np.random.randint(age_avg - age_std, age_avg + age_std, size=age_null_count)\n",
    "    dataset['Age'][np.isnan(dataset['Age'])] = age_null_random_list\n",
    "    dataset['Age'] = dataset['Age'].astype(int)\n",
    "\n",
    "p_df_train['AgeBand'] = pd.cut(p_df_train['Age'], 5)\n",
    "\n",
    "print (p_df_train[['AgeBand', 'Survived']].groupby(['AgeBand'], as_index=False).mean())"
   ]
  },
  {
   "cell_type": "code",
   "execution_count": 34,
   "id": "1a809436",
   "metadata": {
    "execution": {
     "iopub.execute_input": "2022-11-12T17:26:04.318170Z",
     "iopub.status.busy": "2022-11-12T17:26:04.317161Z",
     "iopub.status.idle": "2022-11-12T17:26:04.343254Z",
     "shell.execute_reply": "2022-11-12T17:26:04.342064Z"
    },
    "papermill": {
     "duration": 0.074551,
     "end_time": "2022-11-12T17:26:04.345620",
     "exception": false,
     "start_time": "2022-11-12T17:26:04.271069",
     "status": "completed"
    },
    "tags": []
   },
   "outputs": [
    {
     "data": {
      "text/html": [
       "<div>\n",
       "<style scoped>\n",
       "    .dataframe tbody tr th:only-of-type {\n",
       "        vertical-align: middle;\n",
       "    }\n",
       "\n",
       "    .dataframe tbody tr th {\n",
       "        vertical-align: top;\n",
       "    }\n",
       "\n",
       "    .dataframe thead th {\n",
       "        text-align: right;\n",
       "    }\n",
       "</style>\n",
       "<table border=\"1\" class=\"dataframe\">\n",
       "  <thead>\n",
       "    <tr style=\"text-align: right;\">\n",
       "      <th></th>\n",
       "      <th>Survived</th>\n",
       "      <th>Pclass</th>\n",
       "      <th>Sex</th>\n",
       "      <th>Age</th>\n",
       "      <th>SibSp</th>\n",
       "      <th>Parch</th>\n",
       "      <th>Fare</th>\n",
       "      <th>Embarked</th>\n",
       "      <th>Title</th>\n",
       "      <th>AgeBand</th>\n",
       "    </tr>\n",
       "  </thead>\n",
       "  <tbody>\n",
       "    <tr>\n",
       "      <th>0</th>\n",
       "      <td>0</td>\n",
       "      <td>3</td>\n",
       "      <td>1</td>\n",
       "      <td>1</td>\n",
       "      <td>1</td>\n",
       "      <td>0</td>\n",
       "      <td>7.2500</td>\n",
       "      <td>0</td>\n",
       "      <td>1</td>\n",
       "      <td>(16.0, 32.0]</td>\n",
       "    </tr>\n",
       "    <tr>\n",
       "      <th>1</th>\n",
       "      <td>1</td>\n",
       "      <td>1</td>\n",
       "      <td>0</td>\n",
       "      <td>2</td>\n",
       "      <td>1</td>\n",
       "      <td>0</td>\n",
       "      <td>71.2833</td>\n",
       "      <td>1</td>\n",
       "      <td>3</td>\n",
       "      <td>(32.0, 48.0]</td>\n",
       "    </tr>\n",
       "    <tr>\n",
       "      <th>2</th>\n",
       "      <td>1</td>\n",
       "      <td>3</td>\n",
       "      <td>0</td>\n",
       "      <td>1</td>\n",
       "      <td>0</td>\n",
       "      <td>0</td>\n",
       "      <td>7.9250</td>\n",
       "      <td>0</td>\n",
       "      <td>2</td>\n",
       "      <td>(16.0, 32.0]</td>\n",
       "    </tr>\n",
       "    <tr>\n",
       "      <th>3</th>\n",
       "      <td>1</td>\n",
       "      <td>1</td>\n",
       "      <td>0</td>\n",
       "      <td>2</td>\n",
       "      <td>1</td>\n",
       "      <td>0</td>\n",
       "      <td>53.1000</td>\n",
       "      <td>0</td>\n",
       "      <td>3</td>\n",
       "      <td>(32.0, 48.0]</td>\n",
       "    </tr>\n",
       "    <tr>\n",
       "      <th>4</th>\n",
       "      <td>0</td>\n",
       "      <td>3</td>\n",
       "      <td>1</td>\n",
       "      <td>2</td>\n",
       "      <td>0</td>\n",
       "      <td>0</td>\n",
       "      <td>8.0500</td>\n",
       "      <td>0</td>\n",
       "      <td>1</td>\n",
       "      <td>(32.0, 48.0]</td>\n",
       "    </tr>\n",
       "  </tbody>\n",
       "</table>\n",
       "</div>"
      ],
      "text/plain": [
       "   Survived  Pclass  Sex  Age  SibSp  Parch     Fare  Embarked  Title  \\\n",
       "0         0       3    1    1      1      0   7.2500         0      1   \n",
       "1         1       1    0    2      1      0  71.2833         1      3   \n",
       "2         1       3    0    1      0      0   7.9250         0      2   \n",
       "3         1       1    0    2      1      0  53.1000         0      3   \n",
       "4         0       3    1    2      0      0   8.0500         0      1   \n",
       "\n",
       "        AgeBand  \n",
       "0  (16.0, 32.0]  \n",
       "1  (32.0, 48.0]  \n",
       "2  (16.0, 32.0]  \n",
       "3  (32.0, 48.0]  \n",
       "4  (32.0, 48.0]  "
      ]
     },
     "execution_count": 34,
     "metadata": {},
     "output_type": "execute_result"
    }
   ],
   "source": [
    "for dataset in train_test_data:\n",
    "    dataset.loc[ dataset['Age'] <= 16, 'Age'] = 0\n",
    "    dataset.loc[(dataset['Age'] > 16) & (dataset['Age'] <= 32), 'Age'] = 1\n",
    "    dataset.loc[(dataset['Age'] > 32) & (dataset['Age'] <= 48), 'Age'] = 2\n",
    "    dataset.loc[(dataset['Age'] > 48) & (dataset['Age'] <= 64), 'Age'] = 3\n",
    "    dataset.loc[ dataset['Age'] > 64, 'Age'] = 4\n",
    "\n",
    "p_df_train.head()"
   ]
  },
  {
   "cell_type": "markdown",
   "id": "4c1b5124",
   "metadata": {
    "papermill": {
     "duration": 0.045679,
     "end_time": "2022-11-12T17:26:04.437587",
     "exception": false,
     "start_time": "2022-11-12T17:26:04.391908",
     "status": "completed"
    },
    "tags": []
   },
   "source": [
    "Теперь заполним значения столбца `Fare`, а затем разделим на 4 категории."
   ]
  },
  {
   "cell_type": "code",
   "execution_count": 35,
   "id": "f92fec0f",
   "metadata": {
    "execution": {
     "iopub.execute_input": "2022-11-12T17:26:04.528796Z",
     "iopub.status.busy": "2022-11-12T17:26:04.528385Z",
     "iopub.status.idle": "2022-11-12T17:26:04.546818Z",
     "shell.execute_reply": "2022-11-12T17:26:04.545341Z"
    },
    "papermill": {
     "duration": 0.067667,
     "end_time": "2022-11-12T17:26:04.550105",
     "exception": false,
     "start_time": "2022-11-12T17:26:04.482438",
     "status": "completed"
    },
    "tags": []
   },
   "outputs": [
    {
     "name": "stdout",
     "output_type": "stream",
     "text": [
      "          FareBand  Survived\n",
      "0   (-0.001, 7.91]  0.197309\n",
      "1   (7.91, 14.454]  0.303571\n",
      "2   (14.454, 31.0]  0.454955\n",
      "3  (31.0, 512.329]  0.581081\n"
     ]
    }
   ],
   "source": [
    "for dataset in train_test_data:\n",
    "    dataset['Fare'] = dataset['Fare'].fillna(p_df_train['Fare'].median())\n",
    "\n",
    "p_df_train['FareBand'] = pd.qcut(p_df_train['Fare'], 4)\n",
    "\n",
    "print (p_df_train[['FareBand', 'Survived']].groupby(['FareBand'], as_index=False).mean())"
   ]
  },
  {
   "cell_type": "code",
   "execution_count": 36,
   "id": "2e7f4802",
   "metadata": {
    "execution": {
     "iopub.execute_input": "2022-11-12T17:26:04.642475Z",
     "iopub.status.busy": "2022-11-12T17:26:04.642089Z",
     "iopub.status.idle": "2022-11-12T17:26:04.666947Z",
     "shell.execute_reply": "2022-11-12T17:26:04.665814Z"
    },
    "papermill": {
     "duration": 0.073785,
     "end_time": "2022-11-12T17:26:04.669530",
     "exception": false,
     "start_time": "2022-11-12T17:26:04.595745",
     "status": "completed"
    },
    "tags": []
   },
   "outputs": [
    {
     "data": {
      "text/html": [
       "<div>\n",
       "<style scoped>\n",
       "    .dataframe tbody tr th:only-of-type {\n",
       "        vertical-align: middle;\n",
       "    }\n",
       "\n",
       "    .dataframe tbody tr th {\n",
       "        vertical-align: top;\n",
       "    }\n",
       "\n",
       "    .dataframe thead th {\n",
       "        text-align: right;\n",
       "    }\n",
       "</style>\n",
       "<table border=\"1\" class=\"dataframe\">\n",
       "  <thead>\n",
       "    <tr style=\"text-align: right;\">\n",
       "      <th></th>\n",
       "      <th>Survived</th>\n",
       "      <th>Pclass</th>\n",
       "      <th>Sex</th>\n",
       "      <th>Age</th>\n",
       "      <th>SibSp</th>\n",
       "      <th>Parch</th>\n",
       "      <th>Fare</th>\n",
       "      <th>Embarked</th>\n",
       "      <th>Title</th>\n",
       "      <th>AgeBand</th>\n",
       "      <th>FareBand</th>\n",
       "    </tr>\n",
       "  </thead>\n",
       "  <tbody>\n",
       "    <tr>\n",
       "      <th>0</th>\n",
       "      <td>0</td>\n",
       "      <td>3</td>\n",
       "      <td>1</td>\n",
       "      <td>1</td>\n",
       "      <td>1</td>\n",
       "      <td>0</td>\n",
       "      <td>0</td>\n",
       "      <td>0</td>\n",
       "      <td>1</td>\n",
       "      <td>(16.0, 32.0]</td>\n",
       "      <td>(-0.001, 7.91]</td>\n",
       "    </tr>\n",
       "    <tr>\n",
       "      <th>1</th>\n",
       "      <td>1</td>\n",
       "      <td>1</td>\n",
       "      <td>0</td>\n",
       "      <td>2</td>\n",
       "      <td>1</td>\n",
       "      <td>0</td>\n",
       "      <td>3</td>\n",
       "      <td>1</td>\n",
       "      <td>3</td>\n",
       "      <td>(32.0, 48.0]</td>\n",
       "      <td>(31.0, 512.329]</td>\n",
       "    </tr>\n",
       "    <tr>\n",
       "      <th>2</th>\n",
       "      <td>1</td>\n",
       "      <td>3</td>\n",
       "      <td>0</td>\n",
       "      <td>1</td>\n",
       "      <td>0</td>\n",
       "      <td>0</td>\n",
       "      <td>1</td>\n",
       "      <td>0</td>\n",
       "      <td>2</td>\n",
       "      <td>(16.0, 32.0]</td>\n",
       "      <td>(7.91, 14.454]</td>\n",
       "    </tr>\n",
       "    <tr>\n",
       "      <th>3</th>\n",
       "      <td>1</td>\n",
       "      <td>1</td>\n",
       "      <td>0</td>\n",
       "      <td>2</td>\n",
       "      <td>1</td>\n",
       "      <td>0</td>\n",
       "      <td>3</td>\n",
       "      <td>0</td>\n",
       "      <td>3</td>\n",
       "      <td>(32.0, 48.0]</td>\n",
       "      <td>(31.0, 512.329]</td>\n",
       "    </tr>\n",
       "    <tr>\n",
       "      <th>4</th>\n",
       "      <td>0</td>\n",
       "      <td>3</td>\n",
       "      <td>1</td>\n",
       "      <td>2</td>\n",
       "      <td>0</td>\n",
       "      <td>0</td>\n",
       "      <td>1</td>\n",
       "      <td>0</td>\n",
       "      <td>1</td>\n",
       "      <td>(32.0, 48.0]</td>\n",
       "      <td>(7.91, 14.454]</td>\n",
       "    </tr>\n",
       "  </tbody>\n",
       "</table>\n",
       "</div>"
      ],
      "text/plain": [
       "   Survived  Pclass  Sex  Age  SibSp  Parch  Fare  Embarked  Title  \\\n",
       "0         0       3    1    1      1      0     0         0      1   \n",
       "1         1       1    0    2      1      0     3         1      3   \n",
       "2         1       3    0    1      0      0     1         0      2   \n",
       "3         1       1    0    2      1      0     3         0      3   \n",
       "4         0       3    1    2      0      0     1         0      1   \n",
       "\n",
       "        AgeBand         FareBand  \n",
       "0  (16.0, 32.0]   (-0.001, 7.91]  \n",
       "1  (32.0, 48.0]  (31.0, 512.329]  \n",
       "2  (16.0, 32.0]   (7.91, 14.454]  \n",
       "3  (32.0, 48.0]  (31.0, 512.329]  \n",
       "4  (32.0, 48.0]   (7.91, 14.454]  "
      ]
     },
     "execution_count": 36,
     "metadata": {},
     "output_type": "execute_result"
    }
   ],
   "source": [
    "for dataset in train_test_data:\n",
    "    dataset.loc[ dataset['Fare'] <= 7.91, 'Fare'] = 0\n",
    "    dataset.loc[(dataset['Fare'] > 7.91) & (dataset['Fare'] <= 14.454), 'Fare'] = 1\n",
    "    dataset.loc[(dataset['Fare'] > 14.454) & (dataset['Fare'] <= 31), 'Fare']   = 2\n",
    "    dataset.loc[ dataset['Fare'] > 31, 'Fare'] = 3\n",
    "    dataset['Fare'] = dataset['Fare'].astype(int)\n",
    "\n",
    "p_df_train.head()"
   ]
  },
  {
   "cell_type": "markdown",
   "id": "4081d459",
   "metadata": {
    "papermill": {
     "duration": 0.045012,
     "end_time": "2022-11-12T17:26:04.761172",
     "exception": false,
     "start_time": "2022-11-12T17:26:04.716160",
     "status": "completed"
    },
    "tags": []
   },
   "source": [
    "Добавим пару фичей, а именно `Family size` и `Is Alone`."
   ]
  },
  {
   "cell_type": "code",
   "execution_count": 37,
   "id": "de99aeb0",
   "metadata": {
    "execution": {
     "iopub.execute_input": "2022-11-12T17:26:04.854637Z",
     "iopub.status.busy": "2022-11-12T17:26:04.853423Z",
     "iopub.status.idle": "2022-11-12T17:26:04.876703Z",
     "shell.execute_reply": "2022-11-12T17:26:04.875190Z"
    },
    "papermill": {
     "duration": 0.073221,
     "end_time": "2022-11-12T17:26:04.879795",
     "exception": false,
     "start_time": "2022-11-12T17:26:04.806574",
     "status": "completed"
    },
    "tags": []
   },
   "outputs": [
    {
     "name": "stdout",
     "output_type": "stream",
     "text": [
      "   FamilySize  Survived\n",
      "0           1  0.303538\n",
      "1           2  0.552795\n",
      "2           3  0.578431\n",
      "3           4  0.724138\n",
      "4           5  0.200000\n",
      "5           6  0.136364\n",
      "6           7  0.333333\n",
      "7           8  0.000000\n",
      "8          11  0.000000 \n",
      "\n",
      "   IsAlone  Survived\n",
      "0        0  0.505650\n",
      "1        1  0.303538\n"
     ]
    }
   ],
   "source": [
    "for dataset in train_test_data:\n",
    "    dataset['FamilySize'] = dataset['SibSp'] +  dataset['Parch'] + 1\n",
    "\n",
    "    dataset['IsAlone'] = 0\n",
    "    dataset.loc[dataset['FamilySize'] == 1, 'IsAlone'] = 1\n",
    "\n",
    "print(p_df_train[['FamilySize', 'Survived']].groupby(['FamilySize'], as_index=False).mean(), '\\n')\n",
    "print(p_df_train[['IsAlone', 'Survived']].groupby(['IsAlone'], as_index=False).mean())"
   ]
  },
  {
   "cell_type": "markdown",
   "id": "b031a223",
   "metadata": {
    "papermill": {
     "duration": 0.047015,
     "end_time": "2022-11-12T17:26:04.974888",
     "exception": false,
     "start_time": "2022-11-12T17:26:04.927873",
     "status": "completed"
    },
    "tags": []
   },
   "source": [
    "Осталось убрать столбцы `SibSp`, `Parch`, `AgeBand`, `FamilySize` и `FareBand`."
   ]
  },
  {
   "cell_type": "code",
   "execution_count": 38,
   "id": "d980dade",
   "metadata": {
    "execution": {
     "iopub.execute_input": "2022-11-12T17:26:05.069709Z",
     "iopub.status.busy": "2022-11-12T17:26:05.069335Z",
     "iopub.status.idle": "2022-11-12T17:26:05.083623Z",
     "shell.execute_reply": "2022-11-12T17:26:05.082686Z"
    },
    "papermill": {
     "duration": 0.065037,
     "end_time": "2022-11-12T17:26:05.085754",
     "exception": false,
     "start_time": "2022-11-12T17:26:05.020717",
     "status": "completed"
    },
    "tags": []
   },
   "outputs": [
    {
     "data": {
      "text/html": [
       "<div>\n",
       "<style scoped>\n",
       "    .dataframe tbody tr th:only-of-type {\n",
       "        vertical-align: middle;\n",
       "    }\n",
       "\n",
       "    .dataframe tbody tr th {\n",
       "        vertical-align: top;\n",
       "    }\n",
       "\n",
       "    .dataframe thead th {\n",
       "        text-align: right;\n",
       "    }\n",
       "</style>\n",
       "<table border=\"1\" class=\"dataframe\">\n",
       "  <thead>\n",
       "    <tr style=\"text-align: right;\">\n",
       "      <th></th>\n",
       "      <th>Survived</th>\n",
       "      <th>Pclass</th>\n",
       "      <th>Sex</th>\n",
       "      <th>Age</th>\n",
       "      <th>Fare</th>\n",
       "      <th>Embarked</th>\n",
       "      <th>Title</th>\n",
       "      <th>IsAlone</th>\n",
       "    </tr>\n",
       "  </thead>\n",
       "  <tbody>\n",
       "    <tr>\n",
       "      <th>0</th>\n",
       "      <td>0</td>\n",
       "      <td>3</td>\n",
       "      <td>1</td>\n",
       "      <td>1</td>\n",
       "      <td>0</td>\n",
       "      <td>0</td>\n",
       "      <td>1</td>\n",
       "      <td>0</td>\n",
       "    </tr>\n",
       "    <tr>\n",
       "      <th>1</th>\n",
       "      <td>1</td>\n",
       "      <td>1</td>\n",
       "      <td>0</td>\n",
       "      <td>2</td>\n",
       "      <td>3</td>\n",
       "      <td>1</td>\n",
       "      <td>3</td>\n",
       "      <td>0</td>\n",
       "    </tr>\n",
       "    <tr>\n",
       "      <th>2</th>\n",
       "      <td>1</td>\n",
       "      <td>3</td>\n",
       "      <td>0</td>\n",
       "      <td>1</td>\n",
       "      <td>1</td>\n",
       "      <td>0</td>\n",
       "      <td>2</td>\n",
       "      <td>1</td>\n",
       "    </tr>\n",
       "    <tr>\n",
       "      <th>3</th>\n",
       "      <td>1</td>\n",
       "      <td>1</td>\n",
       "      <td>0</td>\n",
       "      <td>2</td>\n",
       "      <td>3</td>\n",
       "      <td>0</td>\n",
       "      <td>3</td>\n",
       "      <td>0</td>\n",
       "    </tr>\n",
       "    <tr>\n",
       "      <th>4</th>\n",
       "      <td>0</td>\n",
       "      <td>3</td>\n",
       "      <td>1</td>\n",
       "      <td>2</td>\n",
       "      <td>1</td>\n",
       "      <td>0</td>\n",
       "      <td>1</td>\n",
       "      <td>1</td>\n",
       "    </tr>\n",
       "  </tbody>\n",
       "</table>\n",
       "</div>"
      ],
      "text/plain": [
       "   Survived  Pclass  Sex  Age  Fare  Embarked  Title  IsAlone\n",
       "0         0       3    1    1     0         0      1        0\n",
       "1         1       1    0    2     3         1      3        0\n",
       "2         1       3    0    1     1         0      2        1\n",
       "3         1       1    0    2     3         0      3        0\n",
       "4         0       3    1    2     1         0      1        1"
      ]
     },
     "execution_count": 38,
     "metadata": {},
     "output_type": "execute_result"
    }
   ],
   "source": [
    "p_df_train = p_df_train.drop(['AgeBand', 'FareBand', 'SibSp', 'Parch', 'FamilySize'], axis=1)\n",
    "p_df_test = p_df_test.drop(['SibSp', 'Parch', 'FamilySize'], axis=1)\n",
    "p_df_train.head()"
   ]
  },
  {
   "cell_type": "markdown",
   "id": "55a8212a",
   "metadata": {
    "papermill": {
     "duration": 0.046284,
     "end_time": "2022-11-12T17:26:05.178959",
     "exception": false,
     "start_time": "2022-11-12T17:26:05.132675",
     "status": "completed"
    },
    "tags": []
   },
   "source": [
    "## 5. Тепловая карта корреляции"
   ]
  },
  {
   "cell_type": "code",
   "execution_count": 39,
   "id": "6f00d08f",
   "metadata": {
    "execution": {
     "iopub.execute_input": "2022-11-12T17:26:05.273496Z",
     "iopub.status.busy": "2022-11-12T17:26:05.272512Z",
     "iopub.status.idle": "2022-11-12T17:26:05.278996Z",
     "shell.execute_reply": "2022-11-12T17:26:05.278185Z"
    },
    "papermill": {
     "duration": 0.055923,
     "end_time": "2022-11-12T17:26:05.281129",
     "exception": false,
     "start_time": "2022-11-12T17:26:05.225206",
     "status": "completed"
    },
    "tags": []
   },
   "outputs": [],
   "source": [
    "def cor_plot(df):\n",
    "    \"\"\" Построение тепловой карты корреляции \"\"\"\n",
    "    fig, ax = plt.subplots(1, 1, figsize=(15, 15))#subplots\n",
    "\n",
    "    sns.heatmap(df.corr(), annot=True, square=True, vmin=-1, vmax=1, cmap=\"Blues\", ax=ax)\n",
    "    plt.title('Корреляция', size=20)\n",
    "    plt.show()"
   ]
  },
  {
   "cell_type": "code",
   "execution_count": 40,
   "id": "965b1ec0",
   "metadata": {
    "execution": {
     "iopub.execute_input": "2022-11-12T17:26:05.375791Z",
     "iopub.status.busy": "2022-11-12T17:26:05.375114Z",
     "iopub.status.idle": "2022-11-12T17:26:06.125208Z",
     "shell.execute_reply": "2022-11-12T17:26:06.124087Z"
    },
    "papermill": {
     "duration": 0.802256,
     "end_time": "2022-11-12T17:26:06.129975",
     "exception": false,
     "start_time": "2022-11-12T17:26:05.327719",
     "status": "completed"
    },
    "tags": []
   },
   "outputs": [
    {
     "data": {
      "image/png": "[encoded data removed]",
      "text/plain": [
       "<Figure size 1080x1080 with 2 Axes>"
      ]
     },
     "metadata": {
      "needs_background": "light"
     },
     "output_type": "display_data"
    }
   ],
   "source": [
    "cor_plot(p_df_train)"
   ]
  },
  {
   "cell_type": "markdown",
   "id": "9efc8d38",
   "metadata": {
    "papermill": {
     "duration": 0.048008,
     "end_time": "2022-11-12T17:26:06.229674",
     "exception": false,
     "start_time": "2022-11-12T17:26:06.181666",
     "status": "completed"
    },
    "tags": []
   },
   "source": [
    "***Исходя из полученных результатов:***"
   ]
  },
  {
   "cell_type": "markdown",
   "id": "ba1aab80",
   "metadata": {
    "papermill": {
     "duration": 0.048041,
     "end_time": "2022-11-12T17:26:06.325782",
     "exception": false,
     "start_time": "2022-11-12T17:26:06.277741",
     "status": "completed"
    },
    "tags": []
   },
   "source": [
    "|Количественная мера тесноты связи|\tКачественная характеристика силы связи|\n",
    "|---------------------------------|---------------------------------------|\n",
    "|0,1 - 0,3                        | Слабая                                |\n",
    "|0,3 - 0,5                        | Умеренная                             |\n",
    "|0,5 - 0,7                        | Заметная                              |\n",
    "|0,7 - 0,9                        | Высокая                               |\n",
    "|0,9 - 0,99                       | Весьма высокая                        |\n",
    "\n",
    "Руководствуясь шкалой Чеддока, замечаем, что у нас есть случаи заметной линейной связи."
   ]
  },
  {
   "cell_type": "markdown",
   "id": "173e2085",
   "metadata": {
    "papermill": {
     "duration": 0.048618,
     "end_time": "2022-11-12T17:26:06.422544",
     "exception": false,
     "start_time": "2022-11-12T17:26:06.373926",
     "status": "completed"
    },
    "tags": []
   },
   "source": [
    "## Промежуточный вывод"
   ]
  },
  {
   "cell_type": "code",
   "execution_count": 41,
   "id": "e0650d43",
   "metadata": {
    "execution": {
     "iopub.execute_input": "2022-11-12T17:26:06.523430Z",
     "iopub.status.busy": "2022-11-12T17:26:06.523020Z",
     "iopub.status.idle": "2022-11-12T17:26:06.537367Z",
     "shell.execute_reply": "2022-11-12T17:26:06.536069Z"
    },
    "papermill": {
     "duration": 0.068117,
     "end_time": "2022-11-12T17:26:06.541076",
     "exception": false,
     "start_time": "2022-11-12T17:26:06.472959",
     "status": "completed"
    },
    "tags": []
   },
   "outputs": [
    {
     "name": "stdout",
     "output_type": "stream",
     "text": [
      "<class 'pandas.core.frame.DataFrame'>\n",
      "RangeIndex: 891 entries, 0 to 890\n",
      "Data columns (total 8 columns):\n",
      " #   Column    Non-Null Count  Dtype\n",
      "---  ------    --------------  -----\n",
      " 0   Survived  891 non-null    int32\n",
      " 1   Pclass    891 non-null    int32\n",
      " 2   Sex       891 non-null    int64\n",
      " 3   Age       891 non-null    int64\n",
      " 4   Fare      891 non-null    int64\n",
      " 5   Embarked  891 non-null    int64\n",
      " 6   Title     891 non-null    int64\n",
      " 7   IsAlone   891 non-null    int64\n",
      "dtypes: int32(2), int64(6)\n",
      "memory usage: 48.9 KB\n"
     ]
    }
   ],
   "source": [
    "p_df_train.info()"
   ]
  },
  {
   "cell_type": "markdown",
   "id": "a19a950b",
   "metadata": {
    "papermill": {
     "duration": 0.049572,
     "end_time": "2022-11-12T17:26:06.642634",
     "exception": false,
     "start_time": "2022-11-12T17:26:06.593062",
     "status": "completed"
    },
    "tags": []
   },
   "source": [
    "* В итоговую таблицу вошла $891$ запись.\n",
    "* Данные предобработаны, все необходимые признаки собрали в финальную таблицу.\n",
    "* Будем придерживаться стратегии по исключению фичей на этапе обучения."
   ]
  },
  {
   "cell_type": "markdown",
   "id": "dca534c1",
   "metadata": {
    "papermill": {
     "duration": 0.049385,
     "end_time": "2022-11-12T17:26:06.743061",
     "exception": false,
     "start_time": "2022-11-12T17:26:06.693676",
     "status": "completed"
    },
    "tags": []
   },
   "source": [
    "## 6. Обучение моделей\n"
   ]
  },
  {
   "cell_type": "markdown",
   "id": "c36931b9",
   "metadata": {
    "papermill": {
     "duration": 0.04898,
     "end_time": "2022-11-12T17:26:06.846898",
     "exception": false,
     "start_time": "2022-11-12T17:26:06.797918",
     "status": "completed"
    },
    "tags": []
   },
   "source": [
    "### 6.1 Подготовка train/validation"
   ]
  },
  {
   "cell_type": "code",
   "execution_count": 42,
   "id": "6abaabfe",
   "metadata": {
    "execution": {
     "iopub.execute_input": "2022-11-12T17:26:06.951700Z",
     "iopub.status.busy": "2022-11-12T17:26:06.951322Z",
     "iopub.status.idle": "2022-11-12T17:26:07.101236Z",
     "shell.execute_reply": "2022-11-12T17:26:07.099909Z"
    },
    "papermill": {
     "duration": 0.208208,
     "end_time": "2022-11-12T17:26:07.104942",
     "exception": false,
     "start_time": "2022-11-12T17:26:06.896734",
     "status": "completed"
    },
    "tags": []
   },
   "outputs": [],
   "source": [
    "# enableing the Apache Arrow for converting\n",
    "spark.conf.set(\"spark.sql.execution.arrow.enabled\", \"true\")\n",
    "\n",
    "train_df = spark.createDataFrame(p_df_train)\n",
    "test_df = spark.createDataFrame(p_df_test)\n",
    "data_res = {}"
   ]
  },
  {
   "cell_type": "code",
   "execution_count": 43,
   "id": "8182690e",
   "metadata": {
    "execution": {
     "iopub.execute_input": "2022-11-12T17:26:07.243761Z",
     "iopub.status.busy": "2022-11-12T17:26:07.243370Z",
     "iopub.status.idle": "2022-11-12T17:26:07.248808Z",
     "shell.execute_reply": "2022-11-12T17:26:07.247670Z"
    },
    "papermill": {
     "duration": 0.073728,
     "end_time": "2022-11-12T17:26:07.252494",
     "exception": false,
     "start_time": "2022-11-12T17:26:07.178766",
     "status": "completed"
    },
    "tags": []
   },
   "outputs": [
    {
     "name": "stdout",
     "output_type": "stream",
     "text": [
      "Train: ['Survived', 'Pclass', 'Sex', 'Age', 'Fare', 'Embarked', 'Title', 'IsAlone']\n",
      "Test: ['PassengerId', 'Pclass', 'Sex', 'Age', 'Fare', 'Embarked', 'Title', 'IsAlone']\n"
     ]
    }
   ],
   "source": [
    "print(f'Train: {train_df.columns}\\nTest: {test_df.columns}')"
   ]
  },
  {
   "cell_type": "code",
   "execution_count": 44,
   "id": "d83c4b38",
   "metadata": {
    "execution": {
     "iopub.execute_input": "2022-11-12T17:26:07.350775Z",
     "iopub.status.busy": "2022-11-12T17:26:07.349558Z",
     "iopub.status.idle": "2022-11-12T17:26:08.635543Z",
     "shell.execute_reply": "2022-11-12T17:26:08.634150Z"
    },
    "papermill": {
     "duration": 1.33835,
     "end_time": "2022-11-12T17:26:08.639118",
     "exception": false,
     "start_time": "2022-11-12T17:26:07.300768",
     "status": "completed"
    },
    "tags": []
   },
   "outputs": [
    {
     "name": "stdout",
     "output_type": "stream",
     "text": [
      "root\n",
      " |-- Survived: integer (nullable = true)\n",
      " |-- Pclass: integer (nullable = true)\n",
      " |-- Sex: long (nullable = true)\n",
      " |-- Age: long (nullable = true)\n",
      " |-- Fare: long (nullable = true)\n",
      " |-- Embarked: long (nullable = true)\n",
      " |-- Title: long (nullable = true)\n",
      " |-- IsAlone: long (nullable = true)\n",
      "\n",
      "Data size: 891 row(s), 8 column(s)\n",
      "+--------+------+---+---+----+--------+-----+-------+\n",
      "|Survived|Pclass|Sex|Age|Fare|Embarked|Title|IsAlone|\n",
      "+--------+------+---+---+----+--------+-----+-------+\n",
      "|       0|     0|  0|  0|   0|       0|    0|      0|\n",
      "+--------+------+---+---+----+--------+-----+-------+\n",
      "\n",
      "-RECORD 0-----------------------\n",
      " summary  | count               \n",
      " Survived | 891                 \n",
      " Pclass   | 891                 \n",
      " Sex      | 891                 \n",
      " Age      | 891                 \n",
      " Fare     | 891                 \n",
      " Embarked | 891                 \n",
      " Title    | 891                 \n",
      " IsAlone  | 891                 \n",
      "-RECORD 1-----------------------\n",
      " summary  | mean                \n",
      " Survived | 0.3838383838383838  \n",
      " Pclass   | 2.308641975308642   \n",
      " Sex      | 0.6475869809203143  \n",
      " Age      | 1.3322109988776656  \n",
      " Fare     | 1.505050505050505   \n",
      " Embarked | 0.3613916947250281  \n",
      " Title    | 1.5993265993265993  \n",
      " IsAlone  | 0.6026936026936027  \n",
      "-RECORD 2-----------------------\n",
      " summary  | stddev              \n",
      " Survived | 0.4865924542648574  \n",
      " Pclass   | 0.836071240977049   \n",
      " Sex      | 0.47799007089609813 \n",
      " Age      | 0.8464503173247167  \n",
      " Fare     | 1.1181481845510965  \n",
      " Embarked | 0.6356734677794962  \n",
      " Title    | 0.9191835629658051  \n",
      " IsAlone  | 0.4896152299826248  \n",
      "-RECORD 3-----------------------\n",
      " summary  | min                 \n",
      " Survived | 0                   \n",
      " Pclass   | 1                   \n",
      " Sex      | 0                   \n",
      " Age      | 0                   \n",
      " Fare     | 0                   \n",
      " Embarked | 0                   \n",
      " Title    | 0                   \n",
      " IsAlone  | 0                   \n",
      "-RECORD 4-----------------------\n",
      " summary  | max                 \n",
      " Survived | 1                   \n",
      " Pclass   | 3                   \n",
      " Sex      | 1                   \n",
      " Age      | 4                   \n",
      " Fare     | 3                   \n",
      " Embarked | 2                   \n",
      " Title    | 4                   \n",
      " IsAlone  | 1                   \n",
      "\n"
     ]
    }
   ],
   "source": [
    "info_spark_df(train_df)"
   ]
  },
  {
   "cell_type": "markdown",
   "id": "7a8de479",
   "metadata": {
    "papermill": {
     "duration": 0.048106,
     "end_time": "2022-11-12T17:26:08.760170",
     "exception": false,
     "start_time": "2022-11-12T17:26:08.712064",
     "status": "completed"
    },
    "tags": []
   },
   "source": [
    "Данные успешно подготовлены для обучения модели."
   ]
  },
  {
   "cell_type": "code",
   "execution_count": 45,
   "id": "88c48c67",
   "metadata": {
    "execution": {
     "iopub.execute_input": "2022-11-12T17:26:08.858946Z",
     "iopub.status.busy": "2022-11-12T17:26:08.858298Z",
     "iopub.status.idle": "2022-11-12T17:26:09.088011Z",
     "shell.execute_reply": "2022-11-12T17:26:09.086642Z"
    },
    "papermill": {
     "duration": 0.282494,
     "end_time": "2022-11-12T17:26:09.091565",
     "exception": false,
     "start_time": "2022-11-12T17:26:08.809071",
     "status": "completed"
    },
    "tags": []
   },
   "outputs": [],
   "source": [
    "# Выделение векторного столбца\n",
    "train_df = VectorAssembler(inputCols=['Pclass', 'Sex', 'Age', 'Fare',\n",
    "                                       'Embarked', 'Title', 'IsAlone'],\n",
    "                           outputCol='features_vector').transform(train_df)\n",
    "\n",
    "train_df = train_df.selectExpr('features_vector as features', 'Survived as label')"
   ]
  },
  {
   "cell_type": "code",
   "execution_count": 46,
   "id": "c43f4f66",
   "metadata": {
    "execution": {
     "iopub.execute_input": "2022-11-12T17:26:09.244334Z",
     "iopub.status.busy": "2022-11-12T17:26:09.243428Z",
     "iopub.status.idle": "2022-11-12T17:26:09.667351Z",
     "shell.execute_reply": "2022-11-12T17:26:09.666029Z"
    },
    "papermill": {
     "duration": 0.50427,
     "end_time": "2022-11-12T17:26:09.670846",
     "exception": false,
     "start_time": "2022-11-12T17:26:09.166576",
     "status": "completed"
    },
    "tags": []
   },
   "outputs": [
    {
     "name": "stdout",
     "output_type": "stream",
     "text": [
      "+--------------------+-----+\n",
      "|            features|label|\n",
      "+--------------------+-----+\n",
      "|[3.0,1.0,1.0,0.0,...|    0|\n",
      "|[1.0,0.0,2.0,3.0,...|    1|\n",
      "|[3.0,0.0,1.0,1.0,...|    1|\n",
      "|[1.0,0.0,2.0,3.0,...|    1|\n",
      "|[3.0,1.0,2.0,1.0,...|    0|\n",
      "+--------------------+-----+\n",
      "only showing top 5 rows\n",
      "\n"
     ]
    }
   ],
   "source": [
    "train_df.show(5)"
   ]
  },
  {
   "cell_type": "markdown",
   "id": "6565c3a7",
   "metadata": {
    "papermill": {
     "duration": 0.071955,
     "end_time": "2022-11-12T17:26:09.816656",
     "exception": false,
     "start_time": "2022-11-12T17:26:09.744701",
     "status": "completed"
    },
    "tags": []
   },
   "source": [
    "Разбиение на train/valid"
   ]
  },
  {
   "cell_type": "code",
   "execution_count": 47,
   "id": "d7c94f0b",
   "metadata": {
    "execution": {
     "iopub.execute_input": "2022-11-12T17:26:09.972286Z",
     "iopub.status.busy": "2022-11-12T17:26:09.971779Z",
     "iopub.status.idle": "2022-11-12T17:26:10.808518Z",
     "shell.execute_reply": "2022-11-12T17:26:10.807314Z"
    },
    "papermill": {
     "duration": 0.914019,
     "end_time": "2022-11-12T17:26:10.812381",
     "exception": false,
     "start_time": "2022-11-12T17:26:09.898362",
     "status": "completed"
    },
    "tags": []
   },
   "outputs": [
    {
     "name": "stdout",
     "output_type": "stream",
     "text": [
      "Тренировочный сет: (751, 2)\n",
      "Валидационный сет: (140, 2)\n"
     ]
    }
   ],
   "source": [
    "train, validation = train_df.randomSplit([0.85, 0.15], seed = RND)\n",
    "\n",
    "print(\"Тренировочный сет: {}\\nВалидационный сет: {}\".format(train.shape(), validation.shape()))"
   ]
  },
  {
   "cell_type": "markdown",
   "id": "00320f06",
   "metadata": {
    "papermill": {
     "duration": 0.070536,
     "end_time": "2022-11-12T17:26:10.954657",
     "exception": false,
     "start_time": "2022-11-12T17:26:10.884121",
     "status": "completed"
    },
    "tags": []
   },
   "source": [
    "### 6.2 Naive Bayes Classification"
   ]
  },
  {
   "cell_type": "code",
   "execution_count": 48,
   "id": "bc244fa3",
   "metadata": {
    "execution": {
     "iopub.execute_input": "2022-11-12T17:26:11.074372Z",
     "iopub.status.busy": "2022-11-12T17:26:11.073993Z",
     "iopub.status.idle": "2022-11-12T17:26:12.055345Z",
     "shell.execute_reply": "2022-11-12T17:26:12.054396Z"
    },
    "papermill": {
     "duration": 1.033843,
     "end_time": "2022-11-12T17:26:12.057939",
     "exception": false,
     "start_time": "2022-11-12T17:26:11.024096",
     "status": "completed"
    },
    "tags": []
   },
   "outputs": [],
   "source": [
    "nb = NaiveBayes(labelCol='label', featuresCol='features', smoothing=1.0, modelType='gaussian')\n",
    "nbm = nb.fit(train)"
   ]
  },
  {
   "cell_type": "markdown",
   "id": "ee5ed0df",
   "metadata": {
    "papermill": {
     "duration": 0.049278,
     "end_time": "2022-11-12T17:26:12.156156",
     "exception": false,
     "start_time": "2022-11-12T17:26:12.106878",
     "status": "completed"
    },
    "tags": []
   },
   "source": [
    "Предсказания"
   ]
  },
  {
   "cell_type": "code",
   "execution_count": 49,
   "id": "17c80e8e",
   "metadata": {
    "execution": {
     "iopub.execute_input": "2022-11-12T17:26:12.301864Z",
     "iopub.status.busy": "2022-11-12T17:26:12.300157Z",
     "iopub.status.idle": "2022-11-12T17:26:12.675718Z",
     "shell.execute_reply": "2022-11-12T17:26:12.674318Z"
    },
    "papermill": {
     "duration": 0.468107,
     "end_time": "2022-11-12T17:26:12.678829",
     "exception": false,
     "start_time": "2022-11-12T17:26:12.210722",
     "status": "completed"
    },
    "tags": []
   },
   "outputs": [
    {
     "name": "stdout",
     "output_type": "stream",
     "text": [
      "+--------------------+-----+--------------------+--------------------+----------+\n",
      "|            features|label|       rawPrediction|         probability|prediction|\n",
      "+--------------------+-----+--------------------+--------------------+----------+\n",
      "|[1.0,0.0,1.0,2.0,...|    1|[-4.5426788029337...|[0.01457595102080...|       1.0|\n",
      "|[1.0,0.0,2.0,3.0,...|    1|[-8.6172512017089...|[0.00100803867338...|       1.0|\n",
      "|[1.0,1.0,2.0,3.0,...|    0|[-2.4080393912763...|[0.54268351465246...|       0.0|\n",
      "|[2.0,0.0,2.0,2.0,...|    1|[-5.3167770415690...|[0.00766539510436...|       1.0|\n",
      "|[2.0,1.0,1.0,3.0,...|    0|[0.37356977060605...|[0.89576566097433...|       0.0|\n",
      "|[2.0,1.0,2.0,1.0,...|    0|[-0.0282378061652...|[0.97741823309629...|       0.0|\n",
      "|[2.0,1.0,2.0,1.0,...|    1|[1.42170582978525...|[0.96689038477428...|       0.0|\n",
      "|[2.0,1.0,2.0,2.0,...|    0|[0.42217096670921...|[0.86962223275280...|       0.0|\n",
      "|[2.0,1.0,3.0,1.0,...|    0|[-1.6636934106683...|[0.97700558103420...|       0.0|\n",
      "|[2.0,1.0,4.0,1.0,...|    0|[-3.2969857504203...|[0.96211405798909...|       0.0|\n",
      "|[3.0,0.0,1.0,0.0,...|    1|[-2.3535822344471...|[0.49511866358528...|       1.0|\n",
      "|[3.0,0.0,1.0,0.0,...|    1|[-5.2042570993633...|[0.09351683273706...|       1.0|\n",
      "|[3.0,0.0,1.0,0.0,...|    1|[-5.8791527751489...|[0.32237583617951...|       1.0|\n",
      "|[3.0,0.0,1.0,2.0,...|    1|[-5.0964838435848...|[0.01528307095474...|       1.0|\n",
      "|[3.0,0.0,2.0,1.0,...|    0|[-5.0845700849609...|[0.03048279257751...|       1.0|\n",
      "|[3.0,0.0,2.0,2.0,...|    0|[-5.2841590768885...|[0.01660196387343...|       1.0|\n",
      "|[3.0,1.0,0.0,2.0,...|    0|[-7.7588741614881...|[0.03166557760861...|       1.0|\n",
      "|[3.0,1.0,0.0,2.0,...|    1|[-7.7588741614881...|[0.03166557760861...|       1.0|\n",
      "|[3.0,1.0,0.0,3.0,...|    0|[-8.7950964620434...|[0.01912218197656...|       1.0|\n",
      "|[3.0,1.0,0.0,3.0,...|    0|[-8.7950964620434...|[0.01912218197656...|       1.0|\n",
      "+--------------------+-----+--------------------+--------------------+----------+\n",
      "only showing top 20 rows\n",
      "\n"
     ]
    }
   ],
   "source": [
    "predictions_nb = nbm.transform(validation)\n",
    "predictions_nb.show()"
   ]
  },
  {
   "cell_type": "code",
   "execution_count": 50,
   "id": "73789cf6",
   "metadata": {
    "execution": {
     "iopub.execute_input": "2022-11-12T17:26:12.785488Z",
     "iopub.status.busy": "2022-11-12T17:26:12.785091Z",
     "iopub.status.idle": "2022-11-12T17:26:13.230736Z",
     "shell.execute_reply": "2022-11-12T17:26:13.229171Z"
    },
    "papermill": {
     "duration": 0.503162,
     "end_time": "2022-11-12T17:26:13.234219",
     "exception": false,
     "start_time": "2022-11-12T17:26:12.731057",
     "status": "completed"
    },
    "tags": []
   },
   "outputs": [
    {
     "name": "stdout",
     "output_type": "stream",
     "text": [
      "Accuracy NaiveBayes: 0.8381734151893496\n"
     ]
    }
   ],
   "source": [
    "evaluator = MulticlassClassificationEvaluator(labelCol='label', predictionCol='prediction')\n",
    "\n",
    "accuracy_NaiveBayes = evaluator.evaluate(predictions_nb)\n",
    "data_res['NaiveBayes'] = accuracy_NaiveBayes\n",
    "print(f'Accuracy NaiveBayes: {accuracy_NaiveBayes}')"
   ]
  },
  {
   "cell_type": "markdown",
   "id": "d788c012",
   "metadata": {
    "papermill": {
     "duration": 0.049717,
     "end_time": "2022-11-12T17:26:13.333423",
     "exception": false,
     "start_time": "2022-11-12T17:26:13.283706",
     "status": "completed"
    },
    "tags": []
   },
   "source": [
    "### 6.3 Decision Tree Classification"
   ]
  },
  {
   "cell_type": "code",
   "execution_count": 51,
   "id": "ccb48e52",
   "metadata": {
    "execution": {
     "iopub.execute_input": "2022-11-12T17:26:13.435856Z",
     "iopub.status.busy": "2022-11-12T17:26:13.435476Z",
     "iopub.status.idle": "2022-11-12T17:26:15.326199Z",
     "shell.execute_reply": "2022-11-12T17:26:15.325043Z"
    },
    "papermill": {
     "duration": 1.94499,
     "end_time": "2022-11-12T17:26:15.329651",
     "exception": false,
     "start_time": "2022-11-12T17:26:13.384661",
     "status": "completed"
    },
    "tags": []
   },
   "outputs": [],
   "source": [
    "dt = DecisionTreeClassifier(labelCol='label', featuresCol='features', impurity='gini')\n",
    "dt.setSeed(RND)\n",
    "dtm = dt.fit(train)"
   ]
  },
  {
   "cell_type": "code",
   "execution_count": 52,
   "id": "bc5b7930",
   "metadata": {
    "execution": {
     "iopub.execute_input": "2022-11-12T17:26:15.445425Z",
     "iopub.status.busy": "2022-11-12T17:26:15.444497Z",
     "iopub.status.idle": "2022-11-12T17:26:15.709476Z",
     "shell.execute_reply": "2022-11-12T17:26:15.708198Z"
    },
    "papermill": {
     "duration": 0.321882,
     "end_time": "2022-11-12T17:26:15.715389",
     "exception": false,
     "start_time": "2022-11-12T17:26:15.393507",
     "status": "completed"
    },
    "tags": []
   },
   "outputs": [
    {
     "name": "stdout",
     "output_type": "stream",
     "text": [
      "+--------------------+-----+-------------+--------------------+----------+\n",
      "|            features|label|rawPrediction|         probability|prediction|\n",
      "+--------------------+-----+-------------+--------------------+----------+\n",
      "|[1.0,0.0,1.0,2.0,...|    1|   [5.0,54.0]|[0.08474576271186...|       1.0|\n",
      "|[1.0,0.0,2.0,3.0,...|    1|   [2.0,86.0]|[0.02272727272727...|       1.0|\n",
      "|[1.0,1.0,2.0,3.0,...|    0|  [30.0,16.0]|[0.65217391304347...|       0.0|\n",
      "|[2.0,0.0,2.0,2.0,...|    1|   [5.0,54.0]|[0.08474576271186...|       1.0|\n",
      "|[2.0,1.0,1.0,3.0,...|    0|    [1.0,0.0]|           [1.0,0.0]|       0.0|\n",
      "+--------------------+-----+-------------+--------------------+----------+\n",
      "only showing top 5 rows\n",
      "\n"
     ]
    }
   ],
   "source": [
    "predictions_dt = dtm.transform(validation)\n",
    "predictions_dt.show(5)"
   ]
  },
  {
   "cell_type": "code",
   "execution_count": 53,
   "id": "f2e064e0",
   "metadata": {
    "execution": {
     "iopub.execute_input": "2022-11-12T17:26:15.826057Z",
     "iopub.status.busy": "2022-11-12T17:26:15.824532Z",
     "iopub.status.idle": "2022-11-12T17:26:16.053538Z",
     "shell.execute_reply": "2022-11-12T17:26:16.052232Z"
    },
    "papermill": {
     "duration": 0.284713,
     "end_time": "2022-11-12T17:26:16.056903",
     "exception": false,
     "start_time": "2022-11-12T17:26:15.772190",
     "status": "completed"
    },
    "tags": []
   },
   "outputs": [
    {
     "name": "stdout",
     "output_type": "stream",
     "text": [
      "Accuracy Decision Tree: 0.8201308578188753\n"
     ]
    }
   ],
   "source": [
    "accuracy_DecisionTree = evaluator.evaluate(predictions_dt)\n",
    "data_res['DecisionTree'] = accuracy_DecisionTree\n",
    "print(f'Accuracy Decision Tree: {accuracy_DecisionTree}')"
   ]
  },
  {
   "cell_type": "markdown",
   "id": "be6d10c3",
   "metadata": {
    "papermill": {
     "duration": 0.049996,
     "end_time": "2022-11-12T17:26:16.157741",
     "exception": false,
     "start_time": "2022-11-12T17:26:16.107745",
     "status": "completed"
    },
    "tags": []
   },
   "source": [
    "### 6.4 Random Forest Classification"
   ]
  },
  {
   "cell_type": "code",
   "execution_count": 54,
   "id": "3d440856",
   "metadata": {
    "execution": {
     "iopub.execute_input": "2022-11-12T17:26:16.260611Z",
     "iopub.status.busy": "2022-11-12T17:26:16.260202Z",
     "iopub.status.idle": "2022-11-12T17:26:18.063961Z",
     "shell.execute_reply": "2022-11-12T17:26:18.063063Z"
    },
    "papermill": {
     "duration": 1.858402,
     "end_time": "2022-11-12T17:26:18.066966",
     "exception": false,
     "start_time": "2022-11-12T17:26:16.208564",
     "status": "completed"
    },
    "tags": []
   },
   "outputs": [],
   "source": [
    "rf = RandomForestClassifier(labelCol='label', featuresCol='features', seed=RND)\n",
    "rfm = rf.fit(train)"
   ]
  },
  {
   "cell_type": "code",
   "execution_count": 55,
   "id": "6155bb14",
   "metadata": {
    "execution": {
     "iopub.execute_input": "2022-11-12T17:26:18.210686Z",
     "iopub.status.busy": "2022-11-12T17:26:18.210001Z",
     "iopub.status.idle": "2022-11-12T17:26:18.404110Z",
     "shell.execute_reply": "2022-11-12T17:26:18.403025Z"
    },
    "papermill": {
     "duration": 0.258422,
     "end_time": "2022-11-12T17:26:18.408026",
     "exception": false,
     "start_time": "2022-11-12T17:26:18.149604",
     "status": "completed"
    },
    "tags": []
   },
   "outputs": [
    {
     "name": "stdout",
     "output_type": "stream",
     "text": [
      "+--------------------+-----+--------------------+--------------------+----------+\n",
      "|            features|label|       rawPrediction|         probability|prediction|\n",
      "+--------------------+-----+--------------------+--------------------+----------+\n",
      "|[1.0,0.0,1.0,2.0,...|    1|[1.95958104881778...|[0.09797905244088...|       1.0|\n",
      "|[1.0,0.0,2.0,3.0,...|    1|[1.18749613308009...|[0.05937480665400...|       1.0|\n",
      "|[1.0,1.0,2.0,3.0,...|    0|[15.5070475296191...|[0.77535237648095...|       0.0|\n",
      "|[2.0,0.0,2.0,2.0,...|    1|[2.14181096643528...|[0.10709054832176...|       1.0|\n",
      "|[2.0,1.0,1.0,3.0,...|    0|[16.5847021937290...|[0.82923510968645...|       0.0|\n",
      "+--------------------+-----+--------------------+--------------------+----------+\n",
      "only showing top 5 rows\n",
      "\n"
     ]
    }
   ],
   "source": [
    "predictions_rm = rfm.transform(validation)\n",
    "predictions_rm.show(5)"
   ]
  },
  {
   "cell_type": "code",
   "execution_count": 56,
   "id": "5bb192f1",
   "metadata": {
    "execution": {
     "iopub.execute_input": "2022-11-12T17:26:18.522777Z",
     "iopub.status.busy": "2022-11-12T17:26:18.522243Z",
     "iopub.status.idle": "2022-11-12T17:26:18.768778Z",
     "shell.execute_reply": "2022-11-12T17:26:18.767010Z"
    },
    "papermill": {
     "duration": 0.299525,
     "end_time": "2022-11-12T17:26:18.772005",
     "exception": false,
     "start_time": "2022-11-12T17:26:18.472480",
     "status": "completed"
    },
    "tags": []
   },
   "outputs": [
    {
     "name": "stdout",
     "output_type": "stream",
     "text": [
      "Accuracy Random Forest: 0.8785714285714286\n"
     ]
    }
   ],
   "source": [
    "accuracy_RandomForest = evaluator.evaluate(predictions_rm, {evaluator.metricName: \"accuracy\"})\n",
    "data_res['RandomForest'] = accuracy_RandomForest\n",
    "print(f'Accuracy Random Forest: {accuracy_RandomForest}')"
   ]
  },
  {
   "cell_type": "markdown",
   "id": "99a0d792",
   "metadata": {
    "papermill": {
     "duration": 0.051175,
     "end_time": "2022-11-12T17:26:18.898906",
     "exception": false,
     "start_time": "2022-11-12T17:26:18.847731",
     "status": "completed"
    },
    "tags": []
   },
   "source": [
    "### 6.5 Logistic Regression"
   ]
  },
  {
   "cell_type": "code",
   "execution_count": 57,
   "id": "5008f67e",
   "metadata": {
    "execution": {
     "iopub.execute_input": "2022-11-12T17:26:18.998070Z",
     "iopub.status.busy": "2022-11-12T17:26:18.996999Z",
     "iopub.status.idle": "2022-11-12T17:26:20.749907Z",
     "shell.execute_reply": "2022-11-12T17:26:20.748732Z"
    },
    "papermill": {
     "duration": 1.805176,
     "end_time": "2022-11-12T17:26:20.752414",
     "exception": false,
     "start_time": "2022-11-12T17:26:18.947238",
     "status": "completed"
    },
    "tags": []
   },
   "outputs": [],
   "source": [
    "lr = LogisticRegression(labelCol='label', featuresCol='features')\n",
    "lrm = lr.fit(train)"
   ]
  },
  {
   "cell_type": "code",
   "execution_count": 58,
   "id": "38257083",
   "metadata": {
    "execution": {
     "iopub.execute_input": "2022-11-12T17:26:20.878253Z",
     "iopub.status.busy": "2022-11-12T17:26:20.877736Z",
     "iopub.status.idle": "2022-11-12T17:26:21.041808Z",
     "shell.execute_reply": "2022-11-12T17:26:21.040578Z"
    },
    "papermill": {
     "duration": 0.220257,
     "end_time": "2022-11-12T17:26:21.045187",
     "exception": false,
     "start_time": "2022-11-12T17:26:20.824930",
     "status": "completed"
    },
    "tags": []
   },
   "outputs": [
    {
     "name": "stdout",
     "output_type": "stream",
     "text": [
      "+--------------------+-----+--------------------+--------------------+----------+\n",
      "|            features|label|       rawPrediction|         probability|prediction|\n",
      "+--------------------+-----+--------------------+--------------------+----------+\n",
      "|[1.0,0.0,1.0,2.0,...|    1|[-2.1941522415582...|[0.10027685023299...|       1.0|\n",
      "|[1.0,0.0,2.0,3.0,...|    1|[-2.8446823767426...|[0.05495684372726...|       1.0|\n",
      "|[1.0,1.0,2.0,3.0,...|    0|[0.85239429602840...|[0.70106915939008...|       0.0|\n",
      "|[2.0,0.0,2.0,2.0,...|    1|[-1.4099767510665...|[0.19623772335879...|       1.0|\n",
      "|[2.0,1.0,1.0,3.0,...|    0|[1.29661906342912...|[0.78526542708345...|       0.0|\n",
      "+--------------------+-----+--------------------+--------------------+----------+\n",
      "only showing top 5 rows\n",
      "\n"
     ]
    }
   ],
   "source": [
    "predictions_lr = lrm.transform(validation)\n",
    "predictions_lr.show(5)"
   ]
  },
  {
   "cell_type": "code",
   "execution_count": 59,
   "id": "ecade328",
   "metadata": {
    "execution": {
     "iopub.execute_input": "2022-11-12T17:26:21.153469Z",
     "iopub.status.busy": "2022-11-12T17:26:21.153030Z",
     "iopub.status.idle": "2022-11-12T17:26:21.339358Z",
     "shell.execute_reply": "2022-11-12T17:26:21.338149Z"
    },
    "papermill": {
     "duration": 0.239565,
     "end_time": "2022-11-12T17:26:21.341889",
     "exception": false,
     "start_time": "2022-11-12T17:26:21.102324",
     "status": "completed"
    },
    "tags": []
   },
   "outputs": [
    {
     "name": "stdout",
     "output_type": "stream",
     "text": [
      "Accuracy LogisticRegression: 0.8071428571428572\n"
     ]
    }
   ],
   "source": [
    "accuracy_LogisticRegression = evaluator.evaluate(predictions_lr, {evaluator.metricName: \"accuracy\"})\n",
    "data_res['LogisticRegression'] = accuracy_LogisticRegression\n",
    "print(f'Accuracy LogisticRegression: {accuracy_LogisticRegression}')"
   ]
  },
  {
   "cell_type": "markdown",
   "id": "5b11af48",
   "metadata": {
    "papermill": {
     "duration": 0.050506,
     "end_time": "2022-11-12T17:26:21.443102",
     "exception": false,
     "start_time": "2022-11-12T17:26:21.392596",
     "status": "completed"
    },
    "tags": []
   },
   "source": [
    "### 6.6 Multilayer Perceptron"
   ]
  },
  {
   "cell_type": "code",
   "execution_count": 60,
   "id": "3be679e7",
   "metadata": {
    "execution": {
     "iopub.execute_input": "2022-11-12T17:26:21.543491Z",
     "iopub.status.busy": "2022-11-12T17:26:21.543076Z",
     "iopub.status.idle": "2022-11-12T17:26:27.337088Z",
     "shell.execute_reply": "2022-11-12T17:26:27.336056Z"
    },
    "papermill": {
     "duration": 5.847802,
     "end_time": "2022-11-12T17:26:27.340049",
     "exception": false,
     "start_time": "2022-11-12T17:26:21.492247",
     "status": "completed"
    },
    "tags": []
   },
   "outputs": [],
   "source": [
    "mlp = MultilayerPerceptronClassifier(labelCol='label',\n",
    "                                     featuresCol='features',\n",
    "                                     maxIter=100,\n",
    "                                     layers=[7, 7, 21, 21, 2],\n",
    "                                     blockSize=128,\n",
    "                                     seed=RND)\n",
    "mlpm = mlp.fit(train)"
   ]
  },
  {
   "cell_type": "code",
   "execution_count": 61,
   "id": "df4f8e62",
   "metadata": {
    "execution": {
     "iopub.execute_input": "2022-11-12T17:26:27.450185Z",
     "iopub.status.busy": "2022-11-12T17:26:27.449758Z",
     "iopub.status.idle": "2022-11-12T17:26:27.616274Z",
     "shell.execute_reply": "2022-11-12T17:26:27.614387Z"
    },
    "papermill": {
     "duration": 0.227817,
     "end_time": "2022-11-12T17:26:27.622063",
     "exception": false,
     "start_time": "2022-11-12T17:26:27.394246",
     "status": "completed"
    },
    "tags": []
   },
   "outputs": [
    {
     "name": "stdout",
     "output_type": "stream",
     "text": [
      "+--------------------+-----+--------------------+--------------------+----------+\n",
      "|            features|label|       rawPrediction|         probability|prediction|\n",
      "+--------------------+-----+--------------------+--------------------+----------+\n",
      "|[1.0,0.0,1.0,2.0,...|    1|[-1.5701758111405...|[0.06545871069608...|       1.0|\n",
      "|[1.0,0.0,2.0,3.0,...|    1|[-1.7493727208446...|[0.04739601993077...|       1.0|\n",
      "|[1.0,1.0,2.0,3.0,...|    0|[0.21824243632115...|[0.70881039675238...|       0.0|\n",
      "|[2.0,0.0,2.0,2.0,...|    1|[-1.5868149241299...|[0.06349272131049...|       1.0|\n",
      "|[2.0,1.0,1.0,3.0,...|    0|[0.53587338859449...|[0.82511286349005...|       0.0|\n",
      "+--------------------+-----+--------------------+--------------------+----------+\n",
      "only showing top 5 rows\n",
      "\n"
     ]
    }
   ],
   "source": [
    "predictions_mlp = mlpm.transform(validation)\n",
    "predictions_mlp.show(5)"
   ]
  },
  {
   "cell_type": "code",
   "execution_count": 62,
   "id": "cd188ce7",
   "metadata": {
    "execution": {
     "iopub.execute_input": "2022-11-12T17:26:27.749369Z",
     "iopub.status.busy": "2022-11-12T17:26:27.748916Z",
     "iopub.status.idle": "2022-11-12T17:26:27.967758Z",
     "shell.execute_reply": "2022-11-12T17:26:27.966250Z"
    },
    "papermill": {
     "duration": 0.272968,
     "end_time": "2022-11-12T17:26:27.971219",
     "exception": false,
     "start_time": "2022-11-12T17:26:27.698251",
     "status": "completed"
    },
    "tags": []
   },
   "outputs": [
    {
     "name": "stdout",
     "output_type": "stream",
     "text": [
      "Accuracy MulticlassClassification: 0.8625482625482626\n"
     ]
    }
   ],
   "source": [
    "accuracy_mpl = evaluator.evaluate(predictions_mlp)\n",
    "data_res['MultilayerPerceptron'] = accuracy_mpl\n",
    "print('Accuracy MulticlassClassification: {}'.format(accuracy_mpl))"
   ]
  },
  {
   "cell_type": "markdown",
   "id": "aab49e74",
   "metadata": {
    "papermill": {
     "duration": 0.048484,
     "end_time": "2022-11-12T17:26:28.068434",
     "exception": false,
     "start_time": "2022-11-12T17:26:28.019950",
     "status": "completed"
    },
    "tags": []
   },
   "source": [
    "## Вывод"
   ]
  },
  {
   "cell_type": "code",
   "execution_count": 63,
   "id": "ee8fa56d",
   "metadata": {
    "execution": {
     "iopub.execute_input": "2022-11-12T17:26:28.171236Z",
     "iopub.status.busy": "2022-11-12T17:26:28.170801Z",
     "iopub.status.idle": "2022-11-12T17:26:28.185432Z",
     "shell.execute_reply": "2022-11-12T17:26:28.183774Z"
    },
    "papermill": {
     "duration": 0.068451,
     "end_time": "2022-11-12T17:26:28.187875",
     "exception": false,
     "start_time": "2022-11-12T17:26:28.119424",
     "status": "completed"
    },
    "tags": []
   },
   "outputs": [
    {
     "name": "stdout",
     "output_type": "stream",
     "text": [
      "                       Accuracy\n",
      "NaiveBayes            83.817342\n",
      "DecisionTree          82.013086\n",
      "RandomForest          87.857143\n",
      "LogisticRegression    80.714286\n",
      "MultilayerPerceptron  86.254826\n"
     ]
    }
   ],
   "source": [
    "ind = list(data_res.keys())\n",
    "col = ['Accuracy']\n",
    "res_models = list(map(lambda x: x * 100, data_res.values()))\n",
    "\n",
    "result_df = pd.DataFrame(\n",
    "    columns = col,\n",
    "    index = ind\n",
    ")\n",
    "\n",
    "for i in range(len(res_models)):\n",
    "    result_df.iloc[i] = res_models[i]\n",
    "    \n",
    "print(result_df)"
   ]
  },
  {
   "cell_type": "markdown",
   "id": "b2f1aaf4",
   "metadata": {
    "papermill": {
     "duration": 0.048296,
     "end_time": "2022-11-12T17:26:28.284972",
     "exception": false,
     "start_time": "2022-11-12T17:26:28.236676",
     "status": "completed"
    },
    "tags": []
   },
   "source": [
    "Без настройки моделей, `MultilayerPerceptron` и `RandomForest` показали наилучшие результаты."
   ]
  },
  {
   "cell_type": "markdown",
   "id": "f685f89c",
   "metadata": {
    "papermill": {
     "duration": 0.049562,
     "end_time": "2022-11-12T17:26:28.383626",
     "exception": false,
     "start_time": "2022-11-12T17:26:28.334064",
     "status": "completed"
    },
    "tags": []
   },
   "source": [
    "# Создание итогового файла для отправки в Kaggle "
   ]
  },
  {
   "cell_type": "code",
   "execution_count": 64,
   "id": "6b9019fb",
   "metadata": {
    "execution": {
     "iopub.execute_input": "2022-11-12T17:26:28.484905Z",
     "iopub.status.busy": "2022-11-12T17:26:28.484511Z",
     "iopub.status.idle": "2022-11-12T17:26:28.658345Z",
     "shell.execute_reply": "2022-11-12T17:26:28.656076Z"
    },
    "papermill": {
     "duration": 0.228786,
     "end_time": "2022-11-12T17:26:28.662684",
     "exception": false,
     "start_time": "2022-11-12T17:26:28.433898",
     "status": "completed"
    },
    "tags": []
   },
   "outputs": [
    {
     "name": "stdout",
     "output_type": "stream",
     "text": [
      "+--------------------+-----+\n",
      "|            features|label|\n",
      "+--------------------+-----+\n",
      "|[3.0,1.0,1.0,0.0,...|    0|\n",
      "|[1.0,0.0,2.0,3.0,...|    1|\n",
      "|[3.0,0.0,1.0,1.0,...|    1|\n",
      "|[1.0,0.0,2.0,3.0,...|    1|\n",
      "|[3.0,1.0,2.0,1.0,...|    0|\n",
      "+--------------------+-----+\n",
      "only showing top 5 rows\n",
      "\n"
     ]
    }
   ],
   "source": [
    "train_df = spark.createDataFrame(p_df_train)\n",
    "\n",
    "# Выделение векторного столбца\n",
    "train_df = VectorAssembler(inputCols=['Pclass', 'Sex', 'Age', 'Fare',\n",
    "                                       'Embarked', 'Title', 'IsAlone'],\n",
    "                           outputCol='features_vector').transform(train_df)\n",
    "\n",
    "train_df = train_df.selectExpr('features_vector as features', 'Survived as label')\n",
    "\n",
    "train_df.show(5)"
   ]
  },
  {
   "cell_type": "code",
   "execution_count": 65,
   "id": "b945af96",
   "metadata": {
    "execution": {
     "iopub.execute_input": "2022-11-12T17:26:28.772900Z",
     "iopub.status.busy": "2022-11-12T17:26:28.772383Z",
     "iopub.status.idle": "2022-11-12T17:26:29.896816Z",
     "shell.execute_reply": "2022-11-12T17:26:29.895953Z"
    },
    "papermill": {
     "duration": 1.178854,
     "end_time": "2022-11-12T17:26:29.899354",
     "exception": false,
     "start_time": "2022-11-12T17:26:28.720500",
     "status": "completed"
    },
    "tags": []
   },
   "outputs": [],
   "source": [
    "rf = RandomForestClassifier(labelCol='label', featuresCol='features', seed=RND)\n",
    "rfm = rf.fit(train_df)"
   ]
  },
  {
   "cell_type": "code",
   "execution_count": 66,
   "id": "c4b63939",
   "metadata": {
    "execution": {
     "iopub.execute_input": "2022-11-12T17:26:29.999283Z",
     "iopub.status.busy": "2022-11-12T17:26:29.998804Z",
     "iopub.status.idle": "2022-11-12T17:26:30.008623Z",
     "shell.execute_reply": "2022-11-12T17:26:30.007750Z"
    },
    "papermill": {
     "duration": 0.062223,
     "end_time": "2022-11-12T17:26:30.010828",
     "exception": false,
     "start_time": "2022-11-12T17:26:29.948605",
     "status": "completed"
    },
    "tags": []
   },
   "outputs": [
    {
     "data": {
      "text/plain": [
       "DataFrame[PassengerId: int, Survived: int]"
      ]
     },
     "execution_count": 66,
     "metadata": {},
     "output_type": "execute_result"
    }
   ],
   "source": [
    "gender_sub_df"
   ]
  },
  {
   "cell_type": "code",
   "execution_count": 67,
   "id": "11e0dda7",
   "metadata": {
    "execution": {
     "iopub.execute_input": "2022-11-12T17:26:30.112727Z",
     "iopub.status.busy": "2022-11-12T17:26:30.111880Z",
     "iopub.status.idle": "2022-11-12T17:26:30.185907Z",
     "shell.execute_reply": "2022-11-12T17:26:30.184704Z"
    },
    "papermill": {
     "duration": 0.129632,
     "end_time": "2022-11-12T17:26:30.190827",
     "exception": false,
     "start_time": "2022-11-12T17:26:30.061195",
     "status": "completed"
    },
    "tags": []
   },
   "outputs": [
    {
     "name": "stdout",
     "output_type": "stream",
     "text": [
      "+-----------+------+---+---+----+--------+-----+-------+\n",
      "|PassengerId|Pclass|Sex|Age|Fare|Embarked|Title|IsAlone|\n",
      "+-----------+------+---+---+----+--------+-----+-------+\n",
      "|        892|     3|  1|  2|   0|       2|    1|      1|\n",
      "|        893|     3|  0|  2|   0|       0|    3|      0|\n",
      "|        894|     2|  1|  3|   1|       2|    1|      1|\n",
      "|        895|     3|  1|  1|   1|       0|    1|      1|\n",
      "|        896|     3|  0|  1|   1|       0|    3|      0|\n",
      "+-----------+------+---+---+----+--------+-----+-------+\n",
      "only showing top 5 rows\n",
      "\n"
     ]
    }
   ],
   "source": [
    "test_df.show(5)"
   ]
  },
  {
   "cell_type": "code",
   "execution_count": 68,
   "id": "f0a3f733",
   "metadata": {
    "execution": {
     "iopub.execute_input": "2022-11-12T17:26:30.315062Z",
     "iopub.status.busy": "2022-11-12T17:26:30.314507Z",
     "iopub.status.idle": "2022-11-12T17:26:30.355927Z",
     "shell.execute_reply": "2022-11-12T17:26:30.355036Z"
    },
    "papermill": {
     "duration": 0.095942,
     "end_time": "2022-11-12T17:26:30.359377",
     "exception": false,
     "start_time": "2022-11-12T17:26:30.263435",
     "status": "completed"
    },
    "tags": []
   },
   "outputs": [],
   "source": [
    "# Выделение векторного столбца\n",
    "test_df = VectorAssembler(inputCols=['Pclass', 'Sex', 'Age', 'Fare',\n",
    "                                       'Embarked', 'Title', 'IsAlone'],\n",
    "                           outputCol='features_vector').transform(test_df)\n",
    "\n",
    "test_df = test_df.selectExpr('PassengerId', 'features_vector as features')"
   ]
  },
  {
   "cell_type": "code",
   "execution_count": 69,
   "id": "53d62fb7",
   "metadata": {
    "execution": {
     "iopub.execute_input": "2022-11-12T17:26:30.472079Z",
     "iopub.status.busy": "2022-11-12T17:26:30.471693Z",
     "iopub.status.idle": "2022-11-12T17:26:30.641736Z",
     "shell.execute_reply": "2022-11-12T17:26:30.640543Z"
    },
    "papermill": {
     "duration": 0.224612,
     "end_time": "2022-11-12T17:26:30.645382",
     "exception": false,
     "start_time": "2022-11-12T17:26:30.420770",
     "status": "completed"
    },
    "tags": []
   },
   "outputs": [
    {
     "name": "stdout",
     "output_type": "stream",
     "text": [
      "+-----------+--------------------+--------------------+--------------------+----------+\n",
      "|PassengerId|            features|       rawPrediction|         probability|prediction|\n",
      "+-----------+--------------------+--------------------+--------------------+----------+\n",
      "|        892|[3.0,1.0,2.0,0.0,...|[17.8855515948237...|[0.89427757974118...|       0.0|\n",
      "|        893|(7,[0,2,5],[3.0,2...|[10.5150274889086...|[0.52575137444543...|       0.0|\n",
      "|        894|[2.0,1.0,3.0,1.0,...|[17.1859774298873...|[0.85929887149436...|       0.0|\n",
      "|        895|[3.0,1.0,1.0,1.0,...|[17.5876346410127...|[0.87938173205063...|       0.0|\n",
      "|        896|[3.0,0.0,1.0,1.0,...|[9.94948105535582...|[0.49747405276779...|       1.0|\n",
      "+-----------+--------------------+--------------------+--------------------+----------+\n",
      "only showing top 5 rows\n",
      "\n"
     ]
    }
   ],
   "source": [
    "predictions_rfm = rfm.transform(test_df)\n",
    "predictions_rfm.show(5)"
   ]
  },
  {
   "cell_type": "code",
   "execution_count": 70,
   "id": "dea58ff9",
   "metadata": {
    "execution": {
     "iopub.execute_input": "2022-11-12T17:26:30.756650Z",
     "iopub.status.busy": "2022-11-12T17:26:30.756264Z",
     "iopub.status.idle": "2022-11-12T17:26:30.813542Z",
     "shell.execute_reply": "2022-11-12T17:26:30.811549Z"
    },
    "papermill": {
     "duration": 0.110375,
     "end_time": "2022-11-12T17:26:30.816255",
     "exception": false,
     "start_time": "2022-11-12T17:26:30.705880",
     "status": "completed"
    },
    "tags": []
   },
   "outputs": [
    {
     "name": "stdout",
     "output_type": "stream",
     "text": [
      "+-----------+--------------------+\n",
      "|PassengerId|            features|\n",
      "+-----------+--------------------+\n",
      "|        892|[3.0,1.0,2.0,0.0,...|\n",
      "|        893|(7,[0,2,5],[3.0,2...|\n",
      "|        894|[2.0,1.0,3.0,1.0,...|\n",
      "|        895|[3.0,1.0,1.0,1.0,...|\n",
      "|        896|[3.0,0.0,1.0,1.0,...|\n",
      "+-----------+--------------------+\n",
      "only showing top 5 rows\n",
      "\n"
     ]
    }
   ],
   "source": [
    "test_df.show(5)"
   ]
  },
  {
   "cell_type": "code",
   "execution_count": 71,
   "id": "701fbb90",
   "metadata": {
    "execution": {
     "iopub.execute_input": "2022-11-12T17:26:30.925387Z",
     "iopub.status.busy": "2022-11-12T17:26:30.925023Z",
     "iopub.status.idle": "2022-11-12T17:26:31.091237Z",
     "shell.execute_reply": "2022-11-12T17:26:31.090227Z"
    },
    "papermill": {
     "duration": 0.220364,
     "end_time": "2022-11-12T17:26:31.093725",
     "exception": false,
     "start_time": "2022-11-12T17:26:30.873361",
     "status": "completed"
    },
    "tags": []
   },
   "outputs": [],
   "source": [
    "submission = predictions_rfm.selectExpr('PassengerId', 'cast(prediction as int) as Survived')\n",
    "submission = submission.toPandas()"
   ]
  },
  {
   "cell_type": "code",
   "execution_count": 72,
   "id": "84974e1d",
   "metadata": {
    "execution": {
     "iopub.execute_input": "2022-11-12T17:26:31.242343Z",
     "iopub.status.busy": "2022-11-12T17:26:31.241487Z",
     "iopub.status.idle": "2022-11-12T17:26:31.253032Z",
     "shell.execute_reply": "2022-11-12T17:26:31.251465Z"
    },
    "papermill": {
     "duration": 0.089423,
     "end_time": "2022-11-12T17:26:31.257565",
     "exception": false,
     "start_time": "2022-11-12T17:26:31.168142",
     "status": "completed"
    },
    "tags": []
   },
   "outputs": [
    {
     "name": "stdout",
     "output_type": "stream",
     "text": [
      "Submission successful\n"
     ]
    }
   ],
   "source": [
    "submission.to_csv(\"submission.csv\", index=False)\n",
    "print(\"Submission successful\")"
   ]
  },
  {
   "cell_type": "code",
   "execution_count": 73,
   "id": "129acd13",
   "metadata": {
    "execution": {
     "iopub.execute_input": "2022-11-12T17:26:31.410933Z",
     "iopub.status.busy": "2022-11-12T17:26:31.409786Z",
     "iopub.status.idle": "2022-11-12T17:26:31.925500Z",
     "shell.execute_reply": "2022-11-12T17:26:31.924221Z"
    },
    "papermill": {
     "duration": 0.597438,
     "end_time": "2022-11-12T17:26:31.928386",
     "exception": false,
     "start_time": "2022-11-12T17:26:31.330948",
     "status": "completed"
    },
    "tags": []
   },
   "outputs": [],
   "source": [
    "spark.stop()"
   ]
  }
 ],
 "metadata": {
  "kernelspec": {
   "display_name": "Python 3 (ipykernel)",
   "language": "python",
   "name": "python3"
  },
  "language_info": {
   "codemirror_mode": {
    "name": "ipython",
    "version": 3
   },
   "file_extension": ".py",
   "mimetype": "text/x-python",
   "name": "python",
   "nbconvert_exporter": "python",
   "pygments_lexer": "ipython3",
   "version": "3.10.8"
  },
  "papermill": {
   "default_parameters": {},
   "duration": 121.444763,
   "end_time": "2022-11-12T17:26:34.602589",
   "environment_variables": {},
   "exception": null,
   "input_path": "__notebook__.ipynb",
   "output_path": "__notebook__.ipynb",
   "parameters": {},
   "start_time": "2022-11-12T17:24:33.157826",
   "version": "2.3.4"
  }
 },
 "nbformat": 4,
 "nbformat_minor": 5
}
